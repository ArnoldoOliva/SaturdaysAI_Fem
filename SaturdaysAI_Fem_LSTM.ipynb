{
  "nbformat": 4,
  "nbformat_minor": 0,
  "metadata": {
    "kernelspec": {
      "display_name": "Python 3",
      "language": "python",
      "name": "python3"
    },
    "language_info": {
      "codemirror_mode": {
        "name": "ipython",
        "version": 3
      },
      "file_extension": ".py",
      "mimetype": "text/x-python",
      "name": "python",
      "nbconvert_exporter": "python",
      "pygments_lexer": "ipython3",
      "version": "3.6.5"
    },
    "colab": {
      "name": "SaturdaysAI_Fem_LSTM.ipynb",
      "provenance": [],
      "collapsed_sections": [],
      "toc_visible": true,
      "include_colab_link": true
    }
  },
  "cells": [
    {
      "cell_type": "markdown",
      "metadata": {
        "id": "view-in-github",
        "colab_type": "text"
      },
      "source": [
        "<a href=\"https://colab.research.google.com/github/berenicehdr/SaturdaysAI_Fem/blob/master/SaturdaysAI_Fem_LSTM.ipynb\" target=\"_parent\"><img src=\"https://colab.research.google.com/assets/colab-badge.svg\" alt=\"Open In Colab\"/></a>"
      ]
    },
    {
      "cell_type": "markdown",
      "metadata": {
        "id": "bSsXVvjEc7Id",
        "colab_type": "text"
      },
      "source": [
        "## **LSTM**\n",
        "\n",
        "\n"
      ]
    },
    {
      "cell_type": "markdown",
      "metadata": {
        "id": "HV-oQdCZIjod",
        "colab_type": "text"
      },
      "source": [
        "The recurrent neural network uses long short-term memory blocks to provide context for the way the program receives inputs and creates outputs. The long short-term memory block is a complex unit with various components such as weighted inputs, activation functions, inputs from previous blocks and eventual outputs.\n",
        "\n",
        "The unit is called a long short-term memory block because the program is using a structure founded on short-term memory processes to create longer-term memory. "
      ]
    },
    {
      "cell_type": "code",
      "metadata": {
        "id": "M-omSmkLdE74",
        "colab_type": "code",
        "outputId": "676a5deb-f14c-4971-a62b-fd74b3ae67e2",
        "colab": {
          "base_uri": "https://localhost:8080/",
          "height": 54
        }
      },
      "source": [
        "from google.colab import drive\n",
        "drive.mount('/content/drive')"
      ],
      "execution_count": 70,
      "outputs": [
        {
          "output_type": "stream",
          "text": [
            "Drive already mounted at /content/drive; to attempt to forcibly remount, call drive.mount(\"/content/drive\", force_remount=True).\n"
          ],
          "name": "stdout"
        }
      ]
    },
    {
      "cell_type": "code",
      "metadata": {
        "id": "oA_5cveFc7If",
        "colab_type": "code",
        "outputId": "1936e469-a839-46a3-ae57-f48e17b968a2",
        "colab": {
          "base_uri": "https://localhost:8080/",
          "height": 34
        }
      },
      "source": [
        "from platform import python_version\n",
        "print(python_version())"
      ],
      "execution_count": 71,
      "outputs": [
        {
          "output_type": "stream",
          "text": [
            "3.6.9\n"
          ],
          "name": "stdout"
        }
      ]
    },
    {
      "cell_type": "markdown",
      "metadata": {
        "id": "6MwaZbfVc7Ir",
        "colab_type": "text"
      },
      "source": [
        "## Import Libraries"
      ]
    },
    {
      "cell_type": "code",
      "metadata": {
        "id": "SPz9k0tkc7I5",
        "colab_type": "code",
        "outputId": "aa08fda0-a0d4-4a03-a546-55ec05e5ed64",
        "colab": {
          "base_uri": "https://localhost:8080/",
          "height": 34
        }
      },
      "source": [
        "import tensorflow as tf\n",
        "print(tf.__version__)\n",
        "tf.random.set_seed(1234)\n",
        "\n",
        "import numpy as np\n",
        "from numpy.random import seed\n",
        "seed(1)\n",
        "\n",
        "import os\n",
        "import csv\n",
        "import random\n",
        "import statsmodels.api as sm\n",
        "import statsmodels.formula.api as smf\n",
        "import pandas as pd\n",
        "from sklearn.model_selection import train_test_split\n",
        "from sklearn.linear_model import LogisticRegression\n",
        "from sklearn.ensemble import ExtraTreesClassifier\n",
        "from sklearn.preprocessing import MinMaxScaler\n",
        "from pandas import DataFrame  \n",
        "dtypes = {\n",
        "        'count':                                    'float64'\n",
        "        }\n",
        "train_df = pd.read_csv(\"https://raw.githubusercontent.com/berenicehdr/SaturdaysAI_Fem/master/data_by_week.csv\", dtype=dtypes, converters={'nweek': '{:0>2}'.format})        "
      ],
      "execution_count": 72,
      "outputs": [
        {
          "output_type": "stream",
          "text": [
            "2.2.0\n"
          ],
          "name": "stdout"
        }
      ]
    },
    {
      "cell_type": "markdown",
      "metadata": {
        "id": "78078b6Fc7JM",
        "colab_type": "text"
      },
      "source": [
        "## Data Import and Manipulation"
      ]
    },
    {
      "cell_type": "code",
      "metadata": {
        "id": "iAkG96O6c7JT",
        "colab_type": "code",
        "colab": {}
      },
      "source": [
        "a=train_df.head()\n",
        "b=train_df\n",
        "c=b.sort_values(['year','nweek'], ascending=True)\n",
        "c=pd.DataFrame(c)\n",
        "b=train_df\n",
        "c=b.sort_values(['year','nweek'], ascending=True)\n",
        "c=pd.DataFrame(c)\n",
        "df = DataFrame(c, columns= ['year', 'nweek']) \n",
        "# https://datatofish.com/concatenate-values-python/\n",
        "df1 = df['year'].map(str) + df['nweek'].map(str)\n",
        "df1=pd.DataFrame(df1)\n",
        "df2 = DataFrame(c, columns= ['count']) \n",
        "df3=pd.concat([df1, df2], axis = 1)\n",
        "df3.columns = ['FullDate', 'count1']\n",
        "df3.sort_values(['FullDate','count1'], ascending=True)\n",
        "df4 = df3.groupby('FullDate').agg(\"mean\")\n",
        "df4.sort_values(['FullDate'], ascending=True)\n",
        "tseries=df4['count1']"
      ],
      "execution_count": 0,
      "outputs": []
    },
    {
      "cell_type": "code",
      "metadata": {
        "id": "rG8O_zbCc7Kj",
        "colab_type": "code",
        "outputId": "ceee9f4a-40ef-4dcf-eb24-55a211f6c83f",
        "colab": {
          "base_uri": "https://localhost:8080/",
          "height": 119
        }
      },
      "source": [
        "from statsmodels.tsa.stattools import adfuller\n",
        "result = adfuller(tseries)\n",
        "print('ADF Statistic: %f' % result[0])\n",
        "print('p-value: %f' % result[1])\n",
        "print('Critical Values:')\n",
        "for key, value in result[4].items():\n",
        "    print('\\t%s: %.3f' % (key, value))"
      ],
      "execution_count": 79,
      "outputs": [
        {
          "output_type": "stream",
          "text": [
            "ADF Statistic: -2.081016\n",
            "p-value: 0.252216\n",
            "Critical Values:\n",
            "\t1%: -3.481\n",
            "\t5%: -2.884\n",
            "\t10%: -2.579\n"
          ],
          "name": "stdout"
        }
      ]
    },
    {
      "cell_type": "code",
      "metadata": {
        "id": "d6oX1vY4c7Ko",
        "colab_type": "code",
        "outputId": "32d95d7f-45f3-4f78-b926-4d9ca144701d",
        "colab": {
          "base_uri": "https://localhost:8080/",
          "height": 264
        }
      },
      "source": [
        "import matplotlib.pyplot as plt\n",
        "plt.plot(tseries)\n",
        "plt.tick_params(\n",
        "    axis='x',          # changes apply to the x-axis\n",
        "    which='both',      # both major and minor ticks are affected\n",
        "    bottom=False,      # ticks along the bottom edge are off\n",
        "    top=False,         # ticks along the top edge are off\n",
        "    labelbottom=False) # labels along the bottom edge are off\n",
        "plt.ylabel('cases')\n",
        "plt.title(\"Weekly cases\")\n",
        "plt.show()"
      ],
      "execution_count": 80,
      "outputs": [
        {
          "output_type": "display_data",
          "data": {
            "image/png": "[encoded data removed]",
            "text/plain": [
              "<Figure size 432x288 with 1 Axes>"
            ]
          },
          "metadata": {
            "tags": [],
            "needs_background": "light"
          }
        }
      ]
    },
    {
      "cell_type": "code",
      "metadata": {
        "id": "DF2OrXCFc7Kw",
        "colab_type": "code",
        "colab": {
          "base_uri": "https://localhost:8080/",
          "height": 450
        },
        "outputId": "e715620a-62e8-4574-d52f-bd0e2467350a"
      },
      "source": [
        "df=pd.DataFrame(tseries)\n",
        "df.to_csv(\"weekly cases.csv\", sep='\\t', encoding='utf-8')\n",
        "df = df[:99]\n",
        "df"
      ],
      "execution_count": 82,
      "outputs": [
        {
          "output_type": "execute_result",
          "data": {
            "text/html": [
              "<div>\n",
              "<style scoped>\n",
              "    .dataframe tbody tr th:only-of-type {\n",
              "        vertical-align: middle;\n",
              "    }\n",
              "\n",
              "    .dataframe tbody tr th {\n",
              "        vertical-align: top;\n",
              "    }\n",
              "\n",
              "    .dataframe thead th {\n",
              "        text-align: right;\n",
              "    }\n",
              "</style>\n",
              "<table border=\"1\" class=\"dataframe\">\n",
              "  <thead>\n",
              "    <tr style=\"text-align: right;\">\n",
              "      <th></th>\n",
              "      <th>count1</th>\n",
              "    </tr>\n",
              "    <tr>\n",
              "      <th>FullDate</th>\n",
              "      <th></th>\n",
              "    </tr>\n",
              "  </thead>\n",
              "  <tbody>\n",
              "    <tr>\n",
              "      <th>201701</th>\n",
              "      <td>3.0</td>\n",
              "    </tr>\n",
              "    <tr>\n",
              "      <th>201702</th>\n",
              "      <td>1.0</td>\n",
              "    </tr>\n",
              "    <tr>\n",
              "      <th>201703</th>\n",
              "      <td>1.0</td>\n",
              "    </tr>\n",
              "    <tr>\n",
              "      <th>201704</th>\n",
              "      <td>1.0</td>\n",
              "    </tr>\n",
              "    <tr>\n",
              "      <th>201705</th>\n",
              "      <td>1.0</td>\n",
              "    </tr>\n",
              "    <tr>\n",
              "      <th>...</th>\n",
              "      <td>...</td>\n",
              "    </tr>\n",
              "    <tr>\n",
              "      <th>201843</th>\n",
              "      <td>6.0</td>\n",
              "    </tr>\n",
              "    <tr>\n",
              "      <th>201844</th>\n",
              "      <td>6.0</td>\n",
              "    </tr>\n",
              "    <tr>\n",
              "      <th>201845</th>\n",
              "      <td>3.0</td>\n",
              "    </tr>\n",
              "    <tr>\n",
              "      <th>201846</th>\n",
              "      <td>1.0</td>\n",
              "    </tr>\n",
              "    <tr>\n",
              "      <th>201852</th>\n",
              "      <td>3.0</td>\n",
              "    </tr>\n",
              "  </tbody>\n",
              "</table>\n",
              "<p>99 rows × 1 columns</p>\n",
              "</div>"
            ],
            "text/plain": [
              "          count1\n",
              "FullDate        \n",
              "201701       3.0\n",
              "201702       1.0\n",
              "201703       1.0\n",
              "201704       1.0\n",
              "201705       1.0\n",
              "...          ...\n",
              "201843       6.0\n",
              "201844       6.0\n",
              "201845       3.0\n",
              "201846       1.0\n",
              "201852       3.0\n",
              "\n",
              "[99 rows x 1 columns]"
            ]
          },
          "metadata": {
            "tags": []
          },
          "execution_count": 82
        }
      ]
    },
    {
      "cell_type": "markdown",
      "metadata": {
        "id": "xU4I4x5-c7LF",
        "colab_type": "text"
      },
      "source": [
        "### Form dataset matrix"
      ]
    },
    {
      "cell_type": "code",
      "metadata": {
        "id": "hiByIlxBc7LG",
        "colab_type": "code",
        "colab": {}
      },
      "source": [
        "#separa x y y \n",
        "def create_dataset(df, previous=1):\n",
        "    dataX, dataY = [], []\n",
        "    for i in range(len(df)-previous-1):\n",
        "        a = df[i:(i+previous), 0]\n",
        "        print(\"this is \",a)\n",
        "        dataX.append(a)\n",
        "        dataY.append(df[i + previous, 0])\n",
        "    return np.array(dataX), np.array(dataY)"
      ],
      "execution_count": 0,
      "outputs": []
    },
    {
      "cell_type": "markdown",
      "metadata": {
        "id": "QVFHA1Cxc7LS",
        "colab_type": "text"
      },
      "source": [
        "## Normalize dataset with MinMaxScaler"
      ]
    },
    {
      "cell_type": "code",
      "metadata": {
        "id": "jQ2u3xAZbhIV",
        "colab_type": "code",
        "outputId": "893a1988-5754-44a2-c89a-430e08fe9855",
        "colab": {
          "base_uri": "https://localhost:8080/",
          "height": 51
        }
      },
      "source": [
        "np.max(df)"
      ],
      "execution_count": 11,
      "outputs": [
        {
          "output_type": "execute_result",
          "data": {
            "text/plain": [
              "count1    15.0\n",
              "dtype: float64"
            ]
          },
          "metadata": {
            "tags": []
          },
          "execution_count": 11
        }
      ]
    },
    {
      "cell_type": "code",
      "metadata": {
        "id": "scV9fzwbxA8E",
        "colab_type": "code",
        "outputId": "8c3a3eb3-c990-4f9f-f73c-d6678f7378ab",
        "colab": {
          "base_uri": "https://localhost:8080/",
          "height": 51
        }
      },
      "source": [
        "np.min(df)"
      ],
      "execution_count": 12,
      "outputs": [
        {
          "output_type": "execute_result",
          "data": {
            "text/plain": [
              "count1    1.0\n",
              "dtype: float64"
            ]
          },
          "metadata": {
            "tags": []
          },
          "execution_count": 12
        }
      ]
    },
    {
      "cell_type": "code",
      "metadata": {
        "id": "PBAYUKOOb4xu",
        "colab_type": "code",
        "outputId": "bc6278b7-8999-4383-883f-ee145901f981",
        "colab": {
          "base_uri": "https://localhost:8080/",
          "height": 34
        }
      },
      "source": [
        "#contiene todos los datos \n",
        "df.shape"
      ],
      "execution_count": 13,
      "outputs": [
        {
          "output_type": "execute_result",
          "data": {
            "text/plain": [
              "(99, 1)"
            ]
          },
          "metadata": {
            "tags": []
          },
          "execution_count": 13
        }
      ]
    },
    {
      "cell_type": "code",
      "metadata": {
        "id": "4j713_SFc7LT",
        "colab_type": "code",
        "colab": {
          "base_uri": "https://localhost:8080/",
          "height": 1000
        },
        "outputId": "9a8efac8-ac66-4e75-d29a-99ece1983f85"
      },
      "source": [
        "from sklearn import preprocessing\n",
        "scaler = preprocessing.MinMaxScaler(feature_range=(0, 1), copy=True)\n",
        "df = scaler.fit_transform(df)\n",
        "df"
      ],
      "execution_count": 84,
      "outputs": [
        {
          "output_type": "execute_result",
          "data": {
            "text/plain": [
              "array([[0.14285714],\n",
              "       [0.        ],\n",
              "       [0.        ],\n",
              "       [0.        ],\n",
              "       [0.        ],\n",
              "       [0.35714286],\n",
              "       [0.07142857],\n",
              "       [0.14285714],\n",
              "       [0.        ],\n",
              "       [0.07142857],\n",
              "       [0.07142857],\n",
              "       [0.14285714],\n",
              "       [0.42857143],\n",
              "       [0.07142857],\n",
              "       [0.21428571],\n",
              "       [0.14285714],\n",
              "       [0.14285714],\n",
              "       [0.        ],\n",
              "       [0.21428571],\n",
              "       [0.07142857],\n",
              "       [0.14285714],\n",
              "       [0.14285714],\n",
              "       [0.        ],\n",
              "       [0.14285714],\n",
              "       [0.28571429],\n",
              "       [0.28571429],\n",
              "       [0.14285714],\n",
              "       [0.35714286],\n",
              "       [0.28571429],\n",
              "       [0.        ],\n",
              "       [0.42857143],\n",
              "       [0.14285714],\n",
              "       [0.21428571],\n",
              "       [0.28571429],\n",
              "       [0.35714286],\n",
              "       [0.        ],\n",
              "       [0.14285714],\n",
              "       [0.07142857],\n",
              "       [0.14285714],\n",
              "       [0.21428571],\n",
              "       [0.28571429],\n",
              "       [0.        ],\n",
              "       [0.07142857],\n",
              "       [0.57142857],\n",
              "       [0.78571429],\n",
              "       [0.21428571],\n",
              "       [0.        ],\n",
              "       [1.        ],\n",
              "       [0.5       ],\n",
              "       [0.07142857],\n",
              "       [0.14285714],\n",
              "       [0.07142857],\n",
              "       [0.21428571],\n",
              "       [0.21428571],\n",
              "       [0.07142857],\n",
              "       [0.35714286],\n",
              "       [0.21428571],\n",
              "       [0.07142857],\n",
              "       [0.64285714],\n",
              "       [0.35714286],\n",
              "       [0.64285714],\n",
              "       [0.28571429],\n",
              "       [0.78571429],\n",
              "       [0.        ],\n",
              "       [0.64285714],\n",
              "       [0.        ],\n",
              "       [0.07142857],\n",
              "       [0.14285714],\n",
              "       [0.28571429],\n",
              "       [0.35714286],\n",
              "       [0.28571429],\n",
              "       [0.42857143],\n",
              "       [0.5       ],\n",
              "       [0.        ],\n",
              "       [0.5       ],\n",
              "       [0.85714286],\n",
              "       [0.5       ],\n",
              "       [0.14285714],\n",
              "       [0.78571429],\n",
              "       [0.        ],\n",
              "       [0.21428571],\n",
              "       [0.35714286],\n",
              "       [0.        ],\n",
              "       [0.14285714],\n",
              "       [0.85714286],\n",
              "       [0.57142857],\n",
              "       [0.57142857],\n",
              "       [0.35714286],\n",
              "       [0.14285714],\n",
              "       [0.35714286],\n",
              "       [0.5       ],\n",
              "       [0.78571429],\n",
              "       [0.21428571],\n",
              "       [0.57142857],\n",
              "       [0.35714286],\n",
              "       [0.35714286],\n",
              "       [0.14285714],\n",
              "       [0.        ],\n",
              "       [0.14285714]])"
            ]
          },
          "metadata": {
            "tags": []
          },
          "execution_count": 84
        }
      ]
    },
    {
      "cell_type": "markdown",
      "metadata": {
        "id": "IPpOy6fPc7LX",
        "colab_type": "text"
      },
      "source": [
        "## Configure LSTM model"
      ]
    },
    {
      "cell_type": "code",
      "metadata": {
        "id": "SWlGStI7c7LY",
        "colab_type": "code",
        "colab": {}
      },
      "source": [
        "from tensorflow.keras import layers\n",
        "from tensorflow.keras.layers import Dense\n",
        "from tensorflow.keras.layers import LSTM\n",
        "#!!!!!!!!!!!!!\n",
        "# Training and Validation data partition\n",
        "train_size = int(len(df) * 0.8)\n",
        "val_size = len(df) - train_size\n",
        "\n",
        "train, val = df[0:train_size,:], df[train_size:len(df),:]\n",
        "\n",
        "# Number of previous\n",
        "previous = 5\n",
        "X_train, Y_train = create_dataset(train, previous)\n",
        "X_val, Y_val = create_dataset(val, previous)"
      ],
      "execution_count": 0,
      "outputs": []
    },
    {
      "cell_type": "code",
      "metadata": {
        "id": "vdhz3ufYc7Lc",
        "colab_type": "code",
        "colab": {}
      },
      "source": [
        "X_train"
      ],
      "execution_count": 0,
      "outputs": []
    },
    {
      "cell_type": "code",
      "metadata": {
        "id": "iz8i4dx9c7Lk",
        "colab_type": "code",
        "colab": {}
      },
      "source": [
        "Y_train"
      ],
      "execution_count": 0,
      "outputs": []
    },
    {
      "cell_type": "code",
      "metadata": {
        "id": "jAYYDb-jc7Ln",
        "colab_type": "code",
        "outputId": "690cc327-aea3-4976-f51a-79b9f68eedd1",
        "colab": {
          "base_uri": "https://localhost:8080/",
          "height": 1000
        }
      },
      "source": [
        "# reshape input to be [samples, time steps, features]\n",
        "X_train = np.reshape(X_train, (X_train.shape[0], 1, X_train.shape[1]))\n",
        "X_val = np.reshape(X_val, (X_val.shape[0], 1, X_val.shape[1]))\n",
        "\n",
        "# Generate LSTM network\n",
        "model = tf.keras.Sequential()\n",
        "model.add(LSTM(12, input_shape=(1, previous)))\n",
        "model.add(Dense(1))\n",
        "model.compile(loss='mean_squared_error', optimizer='adam')\n",
        "history=model.fit(X_train, Y_train, validation_split=0.2, epochs=100, batch_size=4, verbose=2)\n",
        "\n",
        "\n",
        "# list all data in history\n",
        "print(history.history.keys())\n",
        "# summarize history for accuracy\n",
        "plt.plot(history.history['loss'])\n",
        "plt.plot(history.history['val_loss'])\n",
        "plt.title('model loss')\n",
        "plt.ylabel('loss')\n",
        "plt.xlabel('epoch')\n",
        "plt.legend(['train', 'val'], loc='upper left')\n",
        "plt.show()"
      ],
      "execution_count": 86,
      "outputs": [
        {
          "output_type": "stream",
          "text": [
            "Epoch 1/100\n",
            "15/15 - 0s - loss: 0.0771 - val_loss: 0.1091\n",
            "Epoch 2/100\n",
            "15/15 - 0s - loss: 0.0633 - val_loss: 0.0943\n",
            "Epoch 3/100\n",
            "15/15 - 0s - loss: 0.0543 - val_loss: 0.0853\n",
            "Epoch 4/100\n",
            "15/15 - 0s - loss: 0.0485 - val_loss: 0.0808\n",
            "Epoch 5/100\n",
            "15/15 - 0s - loss: 0.0459 - val_loss: 0.0789\n",
            "Epoch 6/100\n",
            "15/15 - 0s - loss: 0.0445 - val_loss: 0.0781\n",
            "Epoch 7/100\n",
            "15/15 - 0s - loss: 0.0445 - val_loss: 0.0780\n",
            "Epoch 8/100\n",
            "15/15 - 0s - loss: 0.0438 - val_loss: 0.0778\n",
            "Epoch 9/100\n",
            "15/15 - 0s - loss: 0.0437 - val_loss: 0.0772\n",
            "Epoch 10/100\n",
            "15/15 - 0s - loss: 0.0434 - val_loss: 0.0769\n",
            "Epoch 11/100\n",
            "15/15 - 0s - loss: 0.0432 - val_loss: 0.0766\n",
            "Epoch 12/100\n",
            "15/15 - 0s - loss: 0.0430 - val_loss: 0.0765\n",
            "Epoch 13/100\n",
            "15/15 - 0s - loss: 0.0428 - val_loss: 0.0762\n",
            "Epoch 14/100\n",
            "15/15 - 0s - loss: 0.0426 - val_loss: 0.0761\n",
            "Epoch 15/100\n",
            "15/15 - 0s - loss: 0.0426 - val_loss: 0.0757\n",
            "Epoch 16/100\n",
            "15/15 - 0s - loss: 0.0424 - val_loss: 0.0757\n",
            "Epoch 17/100\n",
            "15/15 - 0s - loss: 0.0424 - val_loss: 0.0756\n",
            "Epoch 18/100\n",
            "15/15 - 0s - loss: 0.0424 - val_loss: 0.0754\n",
            "Epoch 19/100\n",
            "15/15 - 0s - loss: 0.0424 - val_loss: 0.0749\n",
            "Epoch 20/100\n",
            "15/15 - 0s - loss: 0.0420 - val_loss: 0.0748\n",
            "Epoch 21/100\n",
            "15/15 - 0s - loss: 0.0418 - val_loss: 0.0748\n",
            "Epoch 22/100\n",
            "15/15 - 0s - loss: 0.0419 - val_loss: 0.0749\n",
            "Epoch 23/100\n",
            "15/15 - 0s - loss: 0.0420 - val_loss: 0.0746\n",
            "Epoch 24/100\n",
            "15/15 - 0s - loss: 0.0419 - val_loss: 0.0741\n",
            "Epoch 25/100\n",
            "15/15 - 0s - loss: 0.0415 - val_loss: 0.0739\n",
            "Epoch 26/100\n",
            "15/15 - 0s - loss: 0.0416 - val_loss: 0.0738\n",
            "Epoch 27/100\n",
            "15/15 - 0s - loss: 0.0413 - val_loss: 0.0736\n",
            "Epoch 28/100\n",
            "15/15 - 0s - loss: 0.0413 - val_loss: 0.0734\n",
            "Epoch 29/100\n",
            "15/15 - 0s - loss: 0.0413 - val_loss: 0.0731\n",
            "Epoch 30/100\n",
            "15/15 - 0s - loss: 0.0412 - val_loss: 0.0731\n",
            "Epoch 31/100\n",
            "15/15 - 0s - loss: 0.0412 - val_loss: 0.0731\n",
            "Epoch 32/100\n",
            "15/15 - 0s - loss: 0.0411 - val_loss: 0.0730\n",
            "Epoch 33/100\n",
            "15/15 - 0s - loss: 0.0410 - val_loss: 0.0729\n",
            "Epoch 34/100\n",
            "15/15 - 0s - loss: 0.0410 - val_loss: 0.0728\n",
            "Epoch 35/100\n",
            "15/15 - 0s - loss: 0.0410 - val_loss: 0.0727\n",
            "Epoch 36/100\n",
            "15/15 - 0s - loss: 0.0412 - val_loss: 0.0725\n",
            "Epoch 37/100\n",
            "15/15 - 0s - loss: 0.0409 - val_loss: 0.0724\n",
            "Epoch 38/100\n",
            "15/15 - 0s - loss: 0.0411 - val_loss: 0.0727\n",
            "Epoch 39/100\n",
            "15/15 - 0s - loss: 0.0410 - val_loss: 0.0726\n",
            "Epoch 40/100\n",
            "15/15 - 0s - loss: 0.0409 - val_loss: 0.0724\n",
            "Epoch 41/100\n",
            "15/15 - 0s - loss: 0.0407 - val_loss: 0.0722\n",
            "Epoch 42/100\n",
            "15/15 - 0s - loss: 0.0407 - val_loss: 0.0720\n",
            "Epoch 43/100\n",
            "15/15 - 0s - loss: 0.0406 - val_loss: 0.0719\n",
            "Epoch 44/100\n",
            "15/15 - 0s - loss: 0.0406 - val_loss: 0.0719\n",
            "Epoch 45/100\n",
            "15/15 - 0s - loss: 0.0407 - val_loss: 0.0718\n",
            "Epoch 46/100\n",
            "15/15 - 0s - loss: 0.0406 - val_loss: 0.0715\n",
            "Epoch 47/100\n",
            "15/15 - 0s - loss: 0.0406 - val_loss: 0.0717\n",
            "Epoch 48/100\n",
            "15/15 - 0s - loss: 0.0405 - val_loss: 0.0715\n",
            "Epoch 49/100\n",
            "15/15 - 0s - loss: 0.0405 - val_loss: 0.0715\n",
            "Epoch 50/100\n",
            "15/15 - 0s - loss: 0.0407 - val_loss: 0.0714\n",
            "Epoch 51/100\n",
            "15/15 - 0s - loss: 0.0404 - val_loss: 0.0713\n",
            "Epoch 52/100\n",
            "15/15 - 0s - loss: 0.0405 - val_loss: 0.0713\n",
            "Epoch 53/100\n",
            "15/15 - 0s - loss: 0.0404 - val_loss: 0.0713\n",
            "Epoch 54/100\n",
            "15/15 - 0s - loss: 0.0405 - val_loss: 0.0711\n",
            "Epoch 55/100\n",
            "15/15 - 0s - loss: 0.0405 - val_loss: 0.0712\n",
            "Epoch 56/100\n",
            "15/15 - 0s - loss: 0.0406 - val_loss: 0.0710\n",
            "Epoch 57/100\n",
            "15/15 - 0s - loss: 0.0404 - val_loss: 0.0710\n",
            "Epoch 58/100\n",
            "15/15 - 0s - loss: 0.0403 - val_loss: 0.0710\n",
            "Epoch 59/100\n",
            "15/15 - 0s - loss: 0.0404 - val_loss: 0.0713\n",
            "Epoch 60/100\n",
            "15/15 - 0s - loss: 0.0404 - val_loss: 0.0710\n",
            "Epoch 61/100\n",
            "15/15 - 0s - loss: 0.0405 - val_loss: 0.0710\n",
            "Epoch 62/100\n",
            "15/15 - 0s - loss: 0.0402 - val_loss: 0.0707\n",
            "Epoch 63/100\n",
            "15/15 - 0s - loss: 0.0401 - val_loss: 0.0707\n",
            "Epoch 64/100\n",
            "15/15 - 0s - loss: 0.0401 - val_loss: 0.0706\n",
            "Epoch 65/100\n",
            "15/15 - 0s - loss: 0.0404 - val_loss: 0.0705\n",
            "Epoch 66/100\n",
            "15/15 - 0s - loss: 0.0401 - val_loss: 0.0705\n",
            "Epoch 67/100\n",
            "15/15 - 0s - loss: 0.0403 - val_loss: 0.0704\n",
            "Epoch 68/100\n",
            "15/15 - 0s - loss: 0.0400 - val_loss: 0.0704\n",
            "Epoch 69/100\n",
            "15/15 - 0s - loss: 0.0404 - val_loss: 0.0707\n",
            "Epoch 70/100\n",
            "15/15 - 0s - loss: 0.0402 - val_loss: 0.0703\n",
            "Epoch 71/100\n",
            "15/15 - 0s - loss: 0.0400 - val_loss: 0.0705\n",
            "Epoch 72/100\n",
            "15/15 - 0s - loss: 0.0406 - val_loss: 0.0707\n",
            "Epoch 73/100\n",
            "15/15 - 0s - loss: 0.0401 - val_loss: 0.0702\n",
            "Epoch 74/100\n",
            "15/15 - 0s - loss: 0.0400 - val_loss: 0.0701\n",
            "Epoch 75/100\n",
            "15/15 - 0s - loss: 0.0404 - val_loss: 0.0701\n",
            "Epoch 76/100\n",
            "15/15 - 0s - loss: 0.0405 - val_loss: 0.0702\n",
            "Epoch 77/100\n",
            "15/15 - 0s - loss: 0.0399 - val_loss: 0.0701\n",
            "Epoch 78/100\n",
            "15/15 - 0s - loss: 0.0399 - val_loss: 0.0700\n",
            "Epoch 79/100\n",
            "15/15 - 0s - loss: 0.0401 - val_loss: 0.0699\n",
            "Epoch 80/100\n",
            "15/15 - 0s - loss: 0.0398 - val_loss: 0.0698\n",
            "Epoch 81/100\n",
            "15/15 - 0s - loss: 0.0400 - val_loss: 0.0699\n",
            "Epoch 82/100\n",
            "15/15 - 0s - loss: 0.0400 - val_loss: 0.0697\n",
            "Epoch 83/100\n",
            "15/15 - 0s - loss: 0.0399 - val_loss: 0.0697\n",
            "Epoch 84/100\n",
            "15/15 - 0s - loss: 0.0400 - val_loss: 0.0697\n",
            "Epoch 85/100\n",
            "15/15 - 0s - loss: 0.0403 - val_loss: 0.0700\n",
            "Epoch 86/100\n",
            "15/15 - 0s - loss: 0.0398 - val_loss: 0.0696\n",
            "Epoch 87/100\n",
            "15/15 - 0s - loss: 0.0397 - val_loss: 0.0695\n",
            "Epoch 88/100\n",
            "15/15 - 0s - loss: 0.0398 - val_loss: 0.0695\n",
            "Epoch 89/100\n",
            "15/15 - 0s - loss: 0.0398 - val_loss: 0.0694\n",
            "Epoch 90/100\n",
            "15/15 - 0s - loss: 0.0399 - val_loss: 0.0694\n",
            "Epoch 91/100\n",
            "15/15 - 0s - loss: 0.0398 - val_loss: 0.0693\n",
            "Epoch 92/100\n",
            "15/15 - 0s - loss: 0.0397 - val_loss: 0.0694\n",
            "Epoch 93/100\n",
            "15/15 - 0s - loss: 0.0397 - val_loss: 0.0695\n",
            "Epoch 94/100\n",
            "15/15 - 0s - loss: 0.0397 - val_loss: 0.0694\n",
            "Epoch 95/100\n",
            "15/15 - 0s - loss: 0.0398 - val_loss: 0.0693\n",
            "Epoch 96/100\n",
            "15/15 - 0s - loss: 0.0397 - val_loss: 0.0693\n",
            "Epoch 97/100\n",
            "15/15 - 0s - loss: 0.0396 - val_loss: 0.0693\n",
            "Epoch 98/100\n",
            "15/15 - 0s - loss: 0.0397 - val_loss: 0.0693\n",
            "Epoch 99/100\n",
            "15/15 - 0s - loss: 0.0397 - val_loss: 0.0691\n",
            "Epoch 100/100\n",
            "15/15 - 0s - loss: 0.0397 - val_loss: 0.0692\n",
            "dict_keys(['loss', 'val_loss'])\n"
          ],
          "name": "stdout"
        },
        {
          "output_type": "display_data",
          "data": {
            "image/png": "[encoded data removed]",
            "text/plain": [
              "<Figure size 432x288 with 1 Axes>"
            ]
          },
          "metadata": {
            "tags": [],
            "needs_background": "light"
          }
        }
      ]
    },
    {
      "cell_type": "code",
      "metadata": {
        "id": "cy7qrBH2c7Lr",
        "colab_type": "code",
        "colab": {}
      },
      "source": [
        "# Generate predictions\n",
        "trainpred = model.predict(X_train)\n",
        "valpred = model.predict(X_val)"
      ],
      "execution_count": 0,
      "outputs": []
    },
    {
      "cell_type": "code",
      "metadata": {
        "id": "jXjcyvxPc7L0",
        "colab_type": "code",
        "outputId": "2d896051-776a-4f57-ab06-369766f8b205",
        "colab": {
          "base_uri": "https://localhost:8080/",
          "height": 34
        }
      },
      "source": [
        "trainpred.shape"
      ],
      "execution_count": 34,
      "outputs": [
        {
          "output_type": "execute_result",
          "data": {
            "text/plain": [
              "(73, 1)"
            ]
          },
          "metadata": {
            "tags": []
          },
          "execution_count": 34
        }
      ]
    },
    {
      "cell_type": "code",
      "metadata": {
        "id": "2urFTx9axG3Z",
        "colab_type": "code",
        "colab": {}
      },
      "source": [
        "Y_train.shape"
      ],
      "execution_count": 0,
      "outputs": []
    },
    {
      "cell_type": "code",
      "metadata": {
        "id": "Ng8XpFCoc7L4",
        "colab_type": "code",
        "colab": {}
      },
      "source": [
        "valpred"
      ],
      "execution_count": 0,
      "outputs": []
    },
    {
      "cell_type": "code",
      "metadata": {
        "id": "lYe_Lp-3c7MB",
        "colab_type": "code",
        "colab": {}
      },
      "source": [
        "# Convert predictions back to normal values\n",
        "trainpred = scaler.inverse_transform(trainpred)\n",
        "Y_train = scaler.inverse_transform([Y_train])\n",
        "valpred = scaler.inverse_transform(valpred)\n",
        "Y_val = scaler.inverse_transform([Y_val])\n",
        "predictions = valpred"
      ],
      "execution_count": 0,
      "outputs": []
    },
    {
      "cell_type": "code",
      "metadata": {
        "id": "Ygz-IM_Wc7MG",
        "colab_type": "code",
        "colab": {
          "base_uri": "https://localhost:8080/",
          "height": 51
        },
        "outputId": "e1e346ed-6d81-43c2-e978-d3841a347f6a"
      },
      "source": [
        "Y_val.shape\n",
        "X_train.shape\n",
        "X_val.shape\n",
        "Y_val"
      ],
      "execution_count": 90,
      "outputs": [
        {
          "output_type": "execute_result",
          "data": {
            "text/plain": [
              "array([[13.,  9.,  9.,  6.,  3.,  6.,  8., 12.,  4.,  9.,  6.,  6.,  3.,\n",
              "         1.]])"
            ]
          },
          "metadata": {
            "tags": []
          },
          "execution_count": 90
        }
      ]
    },
    {
      "cell_type": "code",
      "metadata": {
        "id": "__a8sKKpMt3V",
        "colab_type": "code",
        "outputId": "47f0877a-5072-4b0f-a40b-a42ce4a1af57",
        "colab": {
          "base_uri": "https://localhost:8080/",
          "height": 119
        }
      },
      "source": [
        "Y_train"
      ],
      "execution_count": 91,
      "outputs": [
        {
          "output_type": "execute_result",
          "data": {
            "text/plain": [
              "array([[ 6.,  2.,  3.,  1.,  2.,  2.,  3.,  7.,  2.,  4.,  3.,  3.,  1.,\n",
              "         4.,  2.,  3.,  3.,  1.,  3.,  5.,  5.,  3.,  6.,  5.,  1.,  7.,\n",
              "         3.,  4.,  5.,  6.,  1.,  3.,  2.,  3.,  4.,  5.,  1.,  2.,  9.,\n",
              "        12.,  4.,  1., 15.,  8.,  2.,  3.,  2.,  4.,  4.,  2.,  6.,  4.,\n",
              "         2., 10.,  6., 10.,  5., 12.,  1., 10.,  1.,  2.,  3.,  5.,  6.,\n",
              "         5.,  7.,  8.,  1.,  8., 13.,  8.,  3.]])"
            ]
          },
          "metadata": {
            "tags": []
          },
          "execution_count": 91
        }
      ]
    },
    {
      "cell_type": "code",
      "metadata": {
        "id": "nX67suXRc7Mv",
        "colab_type": "code",
        "colab": {}
      },
      "source": [
        "X_train"
      ],
      "execution_count": 0,
      "outputs": []
    },
    {
      "cell_type": "code",
      "metadata": {
        "id": "KDM-VqeTc7M6",
        "colab_type": "code",
        "colab": {}
      },
      "source": [
        "X_val"
      ],
      "execution_count": 0,
      "outputs": []
    },
    {
      "cell_type": "code",
      "metadata": {
        "id": "OBaUB1-gc7M_",
        "colab_type": "code",
        "outputId": "f1bdc268-3926-4cac-b5a8-2278f3e55659",
        "colab": {
          "base_uri": "https://localhost:8080/",
          "height": 51
        }
      },
      "source": [
        "import math\n",
        "from sklearn.metrics import mean_squared_error\n",
        "\n",
        "# calculate RMSE\n",
        "trainScore = math.sqrt(mean_squared_error(Y_train[0], trainpred[:,0]))\n",
        "print('Train Score: %.2f RMSE' % (trainScore))\n",
        "valScore = math.sqrt(mean_squared_error(Y_val[0], valpred[:,0]))\n",
        "print('Validation Score: %.2f RMSE' % (valScore))"
      ],
      "execution_count": 92,
      "outputs": [
        {
          "output_type": "stream",
          "text": [
            "Train Score: 2.99 RMSE\n",
            "Validation Score: 4.11 RMSE\n"
          ],
          "name": "stdout"
        }
      ]
    },
    {
      "cell_type": "code",
      "metadata": {
        "id": "p3A07z67c7NE",
        "colab_type": "code",
        "colab": {}
      },
      "source": [
        "# Train predictions\n",
        "trainpredPlot = np.empty_like(df)\n",
        "trainpredPlot[:, :] = np.nan\n",
        "trainpredPlot[previous:len(trainpred)+previous, :] = trainpred"
      ],
      "execution_count": 0,
      "outputs": []
    },
    {
      "cell_type": "code",
      "metadata": {
        "id": "8HAQRU-Ac7NK",
        "colab_type": "code",
        "colab": {}
      },
      "source": [
        "# Validation predictions\n",
        "valpredPlot = np.empty_like(df)\n",
        "valpredPlot[:, :] = np.nan\n",
        "valpredPlot[len(trainpred)+(previous*2)+1:len(df)-1, :] = valpred"
      ],
      "execution_count": 0,
      "outputs": []
    },
    {
      "cell_type": "code",
      "metadata": {
        "id": "2D7QmpwDc7NO",
        "colab_type": "code",
        "outputId": "d346bc79-ecaa-4cca-80fa-3e0d85c3187e",
        "colab": {
          "base_uri": "https://localhost:8080/",
          "height": 295
        }
      },
      "source": [
        "# Plot all predictions\n",
        "inversetransform, =plt.plot(scaler.inverse_transform(df),label='Inverse')\n",
        "trainpred, =plt.plot(trainpredPlot, label='Trained')\n",
        "valpred, =plt.plot(valpredPlot, label='Valpred')\n",
        "plt.xlabel('Number of weeks')\n",
        "plt.ylabel('Cases')\n",
        "plt.title(\"Predicted vs. Actual Weekly cases\")\n",
        "plt.legend(loc = 'upper left')\n",
        "plt.show()"
      ],
      "execution_count": 95,
      "outputs": [
        {
          "output_type": "display_data",
          "data": {
            "image/png": "[encoded data removed]",
            "text/plain": [
              "<Figure size 432x288 with 1 Axes>"
            ]
          },
          "metadata": {
            "tags": [],
            "needs_background": "light"
          }
        }
      ]
    },
    {
      "cell_type": "code",
      "metadata": {
        "id": "2XLiSr65c7NZ",
        "colab_type": "code",
        "colab": {}
      },
      "source": [
        "Y_val=Y_val.reshape(-1)\n",
        "Y_val.shape\n",
        "Y_val=pd.Series(Y_val)"
      ],
      "execution_count": 0,
      "outputs": []
    },
    {
      "cell_type": "code",
      "metadata": {
        "id": "w21mnGrHc7Nl",
        "colab_type": "code",
        "colab": {}
      },
      "source": [
        "predictions=predictions.reshape(-1)\n",
        "predictions.shape\n",
        "predictions=pd.Series(predictions)"
      ],
      "execution_count": 0,
      "outputs": []
    },
    {
      "cell_type": "code",
      "metadata": {
        "id": "PaUPAFEIc7Np",
        "colab_type": "code",
        "colab": {}
      },
      "source": [
        "predictions"
      ],
      "execution_count": 0,
      "outputs": []
    },
    {
      "cell_type": "code",
      "metadata": {
        "id": "EvPj0IsVc7Nu",
        "colab_type": "code",
        "colab": {}
      },
      "source": [
        "import numpy as np\n",
        "\n",
        "def mda(actual: np.ndarray, predicted: np.ndarray):\n",
        "    \"\"\" Mean Directional Accuracy \"\"\"\n",
        "    return np.mean((np.sign(actual[1:] - actual[:-1]) == np.sign(predicted[1:] - predicted[:-1])).astype(int))"
      ],
      "execution_count": 0,
      "outputs": []
    },
    {
      "cell_type": "code",
      "metadata": {
        "id": "0k0oMOMec7N9",
        "colab_type": "code",
        "outputId": "5348c815-f456-4100-e177-ef53dfd7ce95",
        "colab": {
          "base_uri": "https://localhost:8080/",
          "height": 34
        }
      },
      "source": [
        "# https://machinelearningmastery.com/time-series-forecasting-performance-measures-with-python/\n",
        "\n",
        "from sklearn.metrics import mean_squared_error\n",
        "from math import sqrt\n",
        "mse = mean_squared_error(Y_val, predictions)\n",
        "rmse = sqrt(mse)\n",
        "print('RMSE: %f' % rmse)"
      ],
      "execution_count": 99,
      "outputs": [
        {
          "output_type": "stream",
          "text": [
            "RMSE: 4.107110\n"
          ],
          "name": "stdout"
        }
      ]
    },
    {
      "cell_type": "code",
      "metadata": {
        "id": "Ums0BgcCc7OH",
        "colab_type": "code",
        "colab": {}
      },
      "source": [
        "forecast_error = (predictions-Y_val)\n",
        "forecast_error"
      ],
      "execution_count": 0,
      "outputs": []
    },
    {
      "cell_type": "code",
      "metadata": {
        "id": "T1_TvRuLc7OO",
        "colab_type": "code",
        "outputId": "838d4160-c55d-4014-ff02-f887decd2031",
        "colab": {
          "base_uri": "https://localhost:8080/",
          "height": 34
        }
      },
      "source": [
        "mean_forecast_error = np.mean(forecast_error)\n",
        "mean_forecast_error"
      ],
      "execution_count": 101,
      "outputs": [
        {
          "output_type": "execute_result",
          "data": {
            "text/plain": [
              "-1.081163968358721"
            ]
          },
          "metadata": {
            "tags": []
          },
          "execution_count": 101
        }
      ]
    },
    {
      "cell_type": "code",
      "metadata": {
        "id": "dMJ-SGqIc7OT",
        "colab_type": "code",
        "colab": {}
      },
      "source": [
        "X_train"
      ],
      "execution_count": 0,
      "outputs": []
    },
    {
      "cell_type": "code",
      "metadata": {
        "id": "BVIl-qdoc7Od",
        "colab_type": "code",
        "colab": {}
      },
      "source": [
        "X_train.shape"
      ],
      "execution_count": 0,
      "outputs": []
    },
    {
      "cell_type": "markdown",
      "metadata": {
        "id": "nGn_kpX-c7Of",
        "colab_type": "text"
      },
      "source": [
        "## Validate Predictions on Test Data"
      ]
    },
    {
      "cell_type": "code",
      "metadata": {
        "id": "5v1QD92Cc7Og",
        "colab_type": "code",
        "colab": {}
      },
      "source": [
        "Xnew = np.array([tseries.iloc[100:105],tseries.iloc[101:106],tseries.iloc[102:107],tseries.iloc[103:108],tseries.iloc[104:109],tseries.iloc[105:110],tseries.iloc[106:111],tseries.iloc[107:112],tseries.iloc[108:113],tseries.iloc[109:114],tseries.iloc[110:115],tseries.iloc[111:116],tseries.iloc[112:117],tseries.iloc[113:118],tseries.iloc[114:119]])"
      ],
      "execution_count": 0,
      "outputs": []
    },
    {
      "cell_type": "code",
      "metadata": {
        "id": "Zz-OIJ88c7Ol",
        "colab_type": "code",
        "colab": {}
      },
      "source": [
        "Xnew.shape"
      ],
      "execution_count": 0,
      "outputs": []
    },
    {
      "cell_type": "code",
      "metadata": {
        "id": "exWlyshRc7Or",
        "colab_type": "code",
        "colab": {}
      },
      "source": [
        "Xnew = scaler.fit_transform(Xnew)\n",
        "Xnew\n",
        "Xnewformat = np.reshape(Xnew, (Xnew.shape[0], 1, Xnew.shape[1]))\n",
        "ynew=model.predict(Xnewformat)"
      ],
      "execution_count": 0,
      "outputs": []
    },
    {
      "cell_type": "code",
      "metadata": {
        "id": "5bKBJkZbc7Oz",
        "colab_type": "code",
        "outputId": "2e093e67-92c8-45ad-ee37-1c6965161663",
        "colab": {
          "base_uri": "https://localhost:8080/",
          "height": 34
        }
      },
      "source": [
        "Xnew.shape\n",
        "ynew.shape\n",
        "type(ynew)\n",
        "ynew.shape"
      ],
      "execution_count": 104,
      "outputs": [
        {
          "output_type": "execute_result",
          "data": {
            "text/plain": [
              "(15, 1)"
            ]
          },
          "metadata": {
            "tags": []
          },
          "execution_count": 104
        }
      ]
    },
    {
      "cell_type": "code",
      "metadata": {
        "id": "tQzr6-zrc7PB",
        "colab_type": "code",
        "colab": {}
      },
      "source": [
        "actual = tseries.iloc[100:115]\n",
        "actual"
      ],
      "execution_count": 0,
      "outputs": []
    },
    {
      "cell_type": "code",
      "metadata": {
        "id": "X8miqP27c7PE",
        "colab_type": "code",
        "outputId": "0e500316-1a3a-4d3d-88d1-6bb863c47e4d",
        "colab": {
          "base_uri": "https://localhost:8080/",
          "height": 51
        }
      },
      "source": [
        "actual = np.array(actual)\n",
        "actual"
      ],
      "execution_count": 106,
      "outputs": [
        {
          "output_type": "execute_result",
          "data": {
            "text/plain": [
              "array([ 4.,  2.,  6.,  4.,  2., 10.,  6., 10.,  5., 12.,  1., 10.,  1.,\n",
              "        2.,  3.])"
            ]
          },
          "metadata": {
            "tags": []
          },
          "execution_count": 106
        }
      ]
    },
    {
      "cell_type": "code",
      "metadata": {
        "id": "nHtWNaHac7PJ",
        "colab_type": "code",
        "outputId": "4455db4f-add7-401e-c1bb-94ded84b4570",
        "colab": {
          "base_uri": "https://localhost:8080/",
          "height": 34
        }
      },
      "source": [
        "actual=actual.reshape(15,-1)\n",
        "actual.shape"
      ],
      "execution_count": 107,
      "outputs": [
        {
          "output_type": "execute_result",
          "data": {
            "text/plain": [
              "(15, 1)"
            ]
          },
          "metadata": {
            "tags": []
          },
          "execution_count": 107
        }
      ]
    },
    {
      "cell_type": "code",
      "metadata": {
        "id": "O6oBQl4vc7PN",
        "colab_type": "code",
        "colab": {}
      },
      "source": [
        "actual"
      ],
      "execution_count": 0,
      "outputs": []
    },
    {
      "cell_type": "code",
      "metadata": {
        "id": "kxGMJAvCc7PQ",
        "colab_type": "code",
        "colab": {}
      },
      "source": [
        "ynew=ynew.reshape(-1)\n",
        "actual=actual.reshape(-1)\n",
        "actualpd=pd.Series(actual)"
      ],
      "execution_count": 0,
      "outputs": []
    },
    {
      "cell_type": "code",
      "metadata": {
        "id": "qOmW8VzW3Jub",
        "colab_type": "code",
        "outputId": "9a815675-7c4b-48f7-def4-5b445c0b6bf7",
        "colab": {
          "base_uri": "https://localhost:8080/",
          "height": 35
        }
      },
      "source": [
        "ynew.shape"
      ],
      "execution_count": 0,
      "outputs": [
        {
          "output_type": "execute_result",
          "data": {
            "text/plain": [
              "(15,)"
            ]
          },
          "metadata": {
            "tags": []
          },
          "execution_count": 118
        }
      ]
    },
    {
      "cell_type": "code",
      "metadata": {
        "id": "cUQH4HPlc7Pb",
        "colab_type": "code",
        "outputId": "54ae2e0e-c04b-4f84-c4db-d55dcefbb948",
        "colab": {
          "base_uri": "https://localhost:8080/",
          "height": 88
        }
      },
      "source": [
        "ynew"
      ],
      "execution_count": 0,
      "outputs": [
        {
          "output_type": "execute_result",
          "data": {
            "text/plain": [
              "array([0.30761704, 0.43710563, 0.31837222, 0.4083848 , 0.5502678 ,\n",
              "       0.5192634 , 0.4973721 , 0.5011029 , 0.48459512, 0.29174653,\n",
              "       0.4173595 , 0.21416196, 0.30019888, 0.34330514, 0.42169997],\n",
              "      dtype=float32)"
            ]
          },
          "metadata": {
            "tags": []
          },
          "execution_count": 49
        }
      ]
    },
    {
      "cell_type": "code",
      "metadata": {
        "id": "p0XjE9B0c7Pf",
        "colab_type": "code",
        "colab": {}
      },
      "source": [
        "maxt=np.max(tseries)\n",
        "mint=np.min(tseries)\n"
      ],
      "execution_count": 0,
      "outputs": []
    },
    {
      "cell_type": "code",
      "metadata": {
        "id": "ofuwf2UVc7Pq",
        "colab_type": "code",
        "colab": {}
      },
      "source": [
        "ynew = ynew * np.abs(maxt-mint) + np.min(tseries)\n",
        "ynewpd=pd.Series(ynew)"
      ],
      "execution_count": 0,
      "outputs": []
    },
    {
      "cell_type": "code",
      "metadata": {
        "id": "17q3kj_Mc7Pv",
        "colab_type": "code",
        "colab": {}
      },
      "source": [
        "actualpd"
      ],
      "execution_count": 0,
      "outputs": []
    },
    {
      "cell_type": "code",
      "metadata": {
        "id": "CQZT-61oc7P1",
        "colab_type": "code",
        "colab": {}
      },
      "source": [
        "ynewpd"
      ],
      "execution_count": 0,
      "outputs": []
    },
    {
      "cell_type": "code",
      "metadata": {
        "id": "228aaAkJc7Qf",
        "colab_type": "code",
        "outputId": "6541e231-044c-4883-9fb5-49567551ec00",
        "colab": {
          "base_uri": "https://localhost:8080/",
          "height": 34
        }
      },
      "source": [
        "mse = mean_squared_error(actualpd, ynewpd)\n",
        "rmse = sqrt(mse)\n",
        "print('RMSE: %f' % rmse)"
      ],
      "execution_count": 113,
      "outputs": [
        {
          "output_type": "stream",
          "text": [
            "RMSE: 3.701042\n"
          ],
          "name": "stdout"
        }
      ]
    },
    {
      "cell_type": "code",
      "metadata": {
        "id": "1NM1WEOEc7Ql",
        "colab_type": "code",
        "colab": {}
      },
      "source": [
        "forecast_error = (ynewpd-actualpd)\n",
        "forecast_error"
      ],
      "execution_count": 0,
      "outputs": []
    },
    {
      "cell_type": "code",
      "metadata": {
        "id": "g4V2YfcXc7Qr",
        "colab_type": "code",
        "outputId": "3a3ddac1-5975-438a-f9e4-05844240ca6c",
        "colab": {
          "base_uri": "https://localhost:8080/",
          "height": 34
        }
      },
      "source": [
        "mean_forecast_error = np.mean(forecast_error)\n",
        "mean_forecast_error"
      ],
      "execution_count": 115,
      "outputs": [
        {
          "output_type": "execute_result",
          "data": {
            "text/plain": [
              "0.4288163661956787"
            ]
          },
          "metadata": {
            "tags": []
          },
          "execution_count": 115
        }
      ]
    },
    {
      "cell_type": "code",
      "metadata": {
        "id": "2TfmHqiVc7RG",
        "colab_type": "code",
        "outputId": "1c83f06d-11da-43a1-b8b4-87eafe108a6b",
        "colab": {
          "base_uri": "https://localhost:8080/",
          "height": 295
        }
      },
      "source": [
        "predictons, =plt.plot(ynewpd, label='Predictions')\n",
        "actual, =plt.plot(actualpd, label='Actual')\n",
        "plt.xlabel('Number of weeks')\n",
        "plt.ylabel('Weekly cases')\n",
        "plt.title(\"Predicted vs. Actual Weekly Cases\")\n",
        "plt.legend(loc = 'upper left')\n",
        "plt.show()"
      ],
      "execution_count": 116,
      "outputs": [
        {
          "output_type": "display_data",
          "data": {
            "image/png": "[encoded data removed]",
            "text/plain": [
              "<Figure size 432x288 with 1 Axes>"
            ]
          },
          "metadata": {
            "tags": [],
            "needs_background": "light"
          }
        }
      ]
    },
    {
      "cell_type": "code",
      "metadata": {
        "id": "-RueHmWwc7Rb",
        "colab_type": "code",
        "outputId": "d7e8c7a4-e081-439e-a45b-abb284900dc6",
        "colab": {
          "base_uri": "https://localhost:8080/",
          "height": 34
        }
      },
      "source": [
        "np.mean(actualpd)"
      ],
      "execution_count": 117,
      "outputs": [
        {
          "output_type": "execute_result",
          "data": {
            "text/plain": [
              "5.2"
            ]
          },
          "metadata": {
            "tags": []
          },
          "execution_count": 117
        }
      ]
    },
    {
      "cell_type": "markdown",
      "metadata": {
        "id": "v-uLe3BSGl3_",
        "colab_type": "text"
      },
      "source": [
        "Referencias :\n",
        "https://towardsdatascience.com/predicting-weekly-hotel-cancellations-with-an-lstm-network-c82789028ea1"
      ]
    }
  ]
}
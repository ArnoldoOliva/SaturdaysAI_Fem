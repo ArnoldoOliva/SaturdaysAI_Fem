{
  "nbformat": 4,
  "nbformat_minor": 0,
  "metadata": {
    "kernelspec": {
      "display_name": "Python 3",
      "language": "python",
      "name": "python3"
    },
    "language_info": {
      "codemirror_mode": {
        "name": "ipython",
        "version": 3
      },
      "file_extension": ".py",
      "mimetype": "text/x-python",
      "name": "python",
      "nbconvert_exporter": "python",
      "pygments_lexer": "ipython3",
      "version": "3.6.5"
    },
    "colab": {
      "name": "SaturdaysAI_Fem_LSTM.ipynb",
      "provenance": [],
      "toc_visible": true,
      "include_colab_link": true
    }
  },
  "cells": [
    {
      "cell_type": "markdown",
      "metadata": {
        "id": "view-in-github",
        "colab_type": "text"
      },
      "source": [
        "<a href=\"https://colab.research.google.com/github/berenicehdr/SaturdaysAI_Fem/blob/master/SaturdaysAI_Fem_LSTM.ipynb\" target=\"_parent\"><img src=\"https://colab.research.google.com/assets/colab-badge.svg\" alt=\"Open In Colab\"/></a>"
      ]
    },
    {
      "cell_type": "markdown",
      "metadata": {
        "id": "bSsXVvjEc7Id",
        "colab_type": "text"
      },
      "source": [
        "## Python version"
      ]
    },
    {
      "cell_type": "code",
      "metadata": {
        "id": "UT8IgdeGdBNO",
        "colab_type": "code",
        "colab": {}
      },
      "source": [
        "#https://towardsdatascience.com/predicting-weekly-hotel-cancellations-with-an-lstm-network-c82789028ea1"
      ],
      "execution_count": 0,
      "outputs": []
    },
    {
      "cell_type": "code",
      "metadata": {
        "id": "M-omSmkLdE74",
        "colab_type": "code",
        "outputId": "70d985b2-7575-4c2d-b91b-8870d740770d",
        "colab": {
          "base_uri": "https://localhost:8080/",
          "height": 122
        }
      },
      "source": [
        "from google.colab import drive\n",
        "drive.mount('/content/drive')"
      ],
      "execution_count": 1,
      "outputs": [
        {
          "output_type": "stream",
          "text": [
            "Go to this URL in a browser: https://accounts.google.com/o/oauth2/auth?client_id=947318989803-6bn6qk8qdgf4n4g3pfee6491hc0brc4i.apps.googleusercontent.com&redirect_uri=urn%3aietf%3awg%3aoauth%3a2.0%3aoob&response_type=code&scope=email%20https%3a%2f%2fwww.googleapis.com%2fauth%2fdocs.test%20https%3a%2f%2fwww.googleapis.com%2fauth%2fdrive%20https%3a%2f%2fwww.googleapis.com%2fauth%2fdrive.photos.readonly%20https%3a%2f%2fwww.googleapis.com%2fauth%2fpeopleapi.readonly\n",
            "\n",
            "Enter your authorization code:\n",
            "··········\n",
            "Mounted at /content/drive\n"
          ],
          "name": "stdout"
        }
      ]
    },
    {
      "cell_type": "code",
      "metadata": {
        "id": "oA_5cveFc7If",
        "colab_type": "code",
        "outputId": "6bbfb2f6-e5be-4ff7-df07-2311e8a1fe8e",
        "colab": {
          "base_uri": "https://localhost:8080/",
          "height": 34
        }
      },
      "source": [
        "from platform import python_version\n",
        "print(python_version())"
      ],
      "execution_count": 2,
      "outputs": [
        {
          "output_type": "stream",
          "text": [
            "3.6.9\n"
          ],
          "name": "stdout"
        }
      ]
    },
    {
      "cell_type": "markdown",
      "metadata": {
        "id": "6MwaZbfVc7Ir",
        "colab_type": "text"
      },
      "source": [
        "## Import Libraries"
      ]
    },
    {
      "cell_type": "code",
      "metadata": {
        "id": "SPz9k0tkc7I5",
        "colab_type": "code",
        "outputId": "ed3e90e2-2320-4f57-b01e-d3816548b7af",
        "colab": {
          "base_uri": "https://localhost:8080/",
          "height": 34
        }
      },
      "source": [
        "import tensorflow as tf\n",
        "print(tf.__version__)\n",
        "tf.random.set_seed(1234)\n",
        "\n",
        "import numpy as np\n",
        "from numpy.random import seed\n",
        "seed(1)\n",
        "\n",
        "import os\n",
        "import csv\n",
        "import random\n",
        "import statsmodels.api as sm\n",
        "import statsmodels.formula.api as smf\n",
        "import pandas as pd\n",
        "from sklearn.model_selection import train_test_split\n",
        "from sklearn.linear_model import LogisticRegression\n",
        "from sklearn.ensemble import ExtraTreesClassifier\n",
        "from sklearn.preprocessing import MinMaxScaler\n",
        "from pandas import DataFrame  \n",
        "dtypes = {\n",
        "        'count':                                    'float64'\n",
        "        }\n",
        "train_df = pd.read_csv(\"/content/drive/My Drive/hotel-modelling-master/notebooks and datasets/time-series/data_by_week.csv\", dtype=dtypes, converters={'nweek': '{:0>2}'.format})        "
      ],
      "execution_count": 21,
      "outputs": [
        {
          "output_type": "stream",
          "text": [
            "2.2.0\n"
          ],
          "name": "stdout"
        }
      ]
    },
    {
      "cell_type": "markdown",
      "metadata": {
        "id": "78078b6Fc7JM",
        "colab_type": "text"
      },
      "source": [
        "## Data Import and Manipulation"
      ]
    },
    {
      "cell_type": "code",
      "metadata": {
        "id": "iAkG96O6c7JT",
        "colab_type": "code",
        "colab": {}
      },
      "source": [
        "a=train_df.head()\n",
        "b=train_df\n",
        "c=b.sort_values(['year','nweek'], ascending=True)\n",
        "c=pd.DataFrame(c)\n",
        "b=train_df\n",
        "c=b.sort_values(['year','nweek'], ascending=True)\n",
        "c=pd.DataFrame(c)\n",
        "df = DataFrame(c, columns= ['year', 'nweek']) \n",
        "# https://datatofish.com/concatenate-values-python/\n",
        "df1 = df['year'].map(str) + df['nweek'].map(str)\n",
        "df1=pd.DataFrame(df1)\n",
        "df2 = DataFrame(c, columns= ['count']) \n",
        "df3=pd.concat([df1, df2], axis = 1)\n",
        "df3.columns = ['FullDate', 'count1']\n",
        "df3.sort_values(['FullDate','count1'], ascending=True)\n",
        "df4 = df3.groupby('FullDate').agg(\"mean\")\n",
        "df4.sort_values(['FullDate'], ascending=True)\n",
        "tseries=df4['count1']"
      ],
      "execution_count": 0,
      "outputs": []
    },
    {
      "cell_type": "code",
      "metadata": {
        "id": "rG8O_zbCc7Kj",
        "colab_type": "code",
        "colab": {}
      },
      "source": [
        "from statsmodels.tsa.stattools import adfuller\n",
        "result = adfuller(tseries)\n",
        "print('ADF Statistic: %f' % result[0])\n",
        "print('p-value: %f' % result[1])\n",
        "print('Critical Values:')\n",
        "for key, value in result[4].items():\n",
        "    print('\\t%s: %.3f' % (key, value))"
      ],
      "execution_count": 0,
      "outputs": []
    },
    {
      "cell_type": "code",
      "metadata": {
        "id": "d6oX1vY4c7Ko",
        "colab_type": "code",
        "outputId": "b2713242-c247-4df5-a51e-191d33a15088",
        "colab": {
          "base_uri": "https://localhost:8080/",
          "height": 264
        }
      },
      "source": [
        "import matplotlib.pyplot as plt\n",
        "plt.plot(tseries)\n",
        "plt.tick_params(\n",
        "    axis='x',          # changes apply to the x-axis\n",
        "    which='both',      # both major and minor ticks are affected\n",
        "    bottom=False,      # ticks along the bottom edge are off\n",
        "    top=False,         # ticks along the top edge are off\n",
        "    labelbottom=False) # labels along the bottom edge are off\n",
        "plt.ylabel('cases')\n",
        "plt.title(\"Weekly cases\")\n",
        "plt.show()"
      ],
      "execution_count": 24,
      "outputs": [
        {
          "output_type": "display_data",
          "data": {
            "image/png": "[encoded data removed]",
            "text/plain": [
              "<Figure size 432x288 with 1 Axes>"
            ]
          },
          "metadata": {
            "tags": [],
            "needs_background": "light"
          }
        }
      ]
    },
    {
      "cell_type": "code",
      "metadata": {
        "id": "DF2OrXCFc7Kw",
        "colab_type": "code",
        "colab": {}
      },
      "source": [
        "df=pd.DataFrame(tseries)\n",
        "df.to_csv(\"weekly cases.csv\", sep='\\t', encoding='utf-8')\n",
        "df = df[:99]\n",
        "df"
      ],
      "execution_count": 0,
      "outputs": []
    },
    {
      "cell_type": "markdown",
      "metadata": {
        "id": "xU4I4x5-c7LF",
        "colab_type": "text"
      },
      "source": [
        "### Form dataset matrix"
      ]
    },
    {
      "cell_type": "code",
      "metadata": {
        "id": "hiByIlxBc7LG",
        "colab_type": "code",
        "colab": {}
      },
      "source": [
        "#separa x y y \n",
        "def create_dataset(df, previous=1):\n",
        "    dataX, dataY = [], []\n",
        "    for i in range(len(df)-previous-1):\n",
        "        a = df[i:(i+previous), 0]\n",
        "        print(\"this is \",a)\n",
        "        dataX.append(a)\n",
        "        dataY.append(df[i + previous, 0])\n",
        "    return np.array(dataX), np.array(dataY)"
      ],
      "execution_count": 0,
      "outputs": []
    },
    {
      "cell_type": "markdown",
      "metadata": {
        "id": "QVFHA1Cxc7LS",
        "colab_type": "text"
      },
      "source": [
        "## Normalize dataset with MinMaxScaler"
      ]
    },
    {
      "cell_type": "code",
      "metadata": {
        "id": "jQ2u3xAZbhIV",
        "colab_type": "code",
        "outputId": "893a1988-5754-44a2-c89a-430e08fe9855",
        "colab": {
          "base_uri": "https://localhost:8080/",
          "height": 51
        }
      },
      "source": [
        "np.max(df)"
      ],
      "execution_count": 11,
      "outputs": [
        {
          "output_type": "execute_result",
          "data": {
            "text/plain": [
              "count1    15.0\n",
              "dtype: float64"
            ]
          },
          "metadata": {
            "tags": []
          },
          "execution_count": 11
        }
      ]
    },
    {
      "cell_type": "code",
      "metadata": {
        "id": "scV9fzwbxA8E",
        "colab_type": "code",
        "outputId": "8c3a3eb3-c990-4f9f-f73c-d6678f7378ab",
        "colab": {
          "base_uri": "https://localhost:8080/",
          "height": 51
        }
      },
      "source": [
        "np.min(df)"
      ],
      "execution_count": 12,
      "outputs": [
        {
          "output_type": "execute_result",
          "data": {
            "text/plain": [
              "count1    1.0\n",
              "dtype: float64"
            ]
          },
          "metadata": {
            "tags": []
          },
          "execution_count": 12
        }
      ]
    },
    {
      "cell_type": "code",
      "metadata": {
        "id": "PBAYUKOOb4xu",
        "colab_type": "code",
        "outputId": "bc6278b7-8999-4383-883f-ee145901f981",
        "colab": {
          "base_uri": "https://localhost:8080/",
          "height": 34
        }
      },
      "source": [
        "#contiene todos los datos \n",
        "df.shape"
      ],
      "execution_count": 13,
      "outputs": [
        {
          "output_type": "execute_result",
          "data": {
            "text/plain": [
              "(99, 1)"
            ]
          },
          "metadata": {
            "tags": []
          },
          "execution_count": 13
        }
      ]
    },
    {
      "cell_type": "code",
      "metadata": {
        "id": "4j713_SFc7LT",
        "colab_type": "code",
        "colab": {}
      },
      "source": [
        "from sklearn import preprocessing\n",
        "scaler = preprocessing.MinMaxScaler(feature_range=(0, 1), copy=True)\n",
        "df = scaler.fit_transform(df)\n",
        "df"
      ],
      "execution_count": 0,
      "outputs": []
    },
    {
      "cell_type": "markdown",
      "metadata": {
        "id": "IPpOy6fPc7LX",
        "colab_type": "text"
      },
      "source": [
        "## Configure LSTM model"
      ]
    },
    {
      "cell_type": "code",
      "metadata": {
        "id": "SWlGStI7c7LY",
        "colab_type": "code",
        "colab": {}
      },
      "source": [
        "from tensorflow.keras import layers\n",
        "from tensorflow.keras.layers import Dense\n",
        "from tensorflow.keras.layers import LSTM\n",
        "#!!!!!!!!!!!!!\n",
        "# Training and Validation data partition\n",
        "train_size = int(len(df) * 0.8)\n",
        "val_size = len(df) - train_size\n",
        "\n",
        "train, val = df[0:train_size,:], df[train_size:len(df),:]\n",
        "\n",
        "# Number of previous\n",
        "previous = 5\n",
        "X_train, Y_train = create_dataset(train, previous)\n",
        "X_val, Y_val = create_dataset(val, previous)"
      ],
      "execution_count": 0,
      "outputs": []
    },
    {
      "cell_type": "code",
      "metadata": {
        "id": "vdhz3ufYc7Lc",
        "colab_type": "code",
        "colab": {}
      },
      "source": [
        "X_train"
      ],
      "execution_count": 0,
      "outputs": []
    },
    {
      "cell_type": "code",
      "metadata": {
        "id": "iz8i4dx9c7Lk",
        "colab_type": "code",
        "colab": {}
      },
      "source": [
        "Y_train"
      ],
      "execution_count": 0,
      "outputs": []
    },
    {
      "cell_type": "code",
      "metadata": {
        "id": "jAYYDb-jc7Ln",
        "colab_type": "code",
        "outputId": "1316120b-b73a-4e11-c158-d5fd2abb7867",
        "colab": {
          "base_uri": "https://localhost:8080/",
          "height": 1000
        }
      },
      "source": [
        "# reshape input to be [samples, time steps, features]\n",
        "X_train = np.reshape(X_train, (X_train.shape[0], 1, X_train.shape[1]))\n",
        "X_val = np.reshape(X_val, (X_val.shape[0], 1, X_val.shape[1]))\n",
        "\n",
        "# Generate LSTM network\n",
        "model = tf.keras.Sequential()\n",
        "model.add(LSTM(12, input_shape=(1, previous)))\n",
        "model.add(Dense(1))\n",
        "model.compile(loss='mean_squared_error', optimizer='adam')\n",
        "history=model.fit(X_train, Y_train, validation_split=0.2, epochs=100, batch_size=4, verbose=2)\n",
        "\n",
        "\n",
        "# list all data in history\n",
        "print(history.history.keys())\n",
        "# summarize history for accuracy\n",
        "plt.plot(history.history['loss'])\n",
        "plt.plot(history.history['val_loss'])\n",
        "plt.title('model loss')\n",
        "plt.ylabel('loss')\n",
        "plt.xlabel('epoch')\n",
        "plt.legend(['train', 'val'], loc='upper left')\n",
        "plt.show()"
      ],
      "execution_count": 32,
      "outputs": [
        {
          "output_type": "stream",
          "text": [
            "Epoch 1/100\n",
            "15/15 - 0s - loss: 0.0859 - val_loss: 0.1221\n",
            "Epoch 2/100\n",
            "15/15 - 0s - loss: 0.0686 - val_loss: 0.1009\n",
            "Epoch 3/100\n",
            "15/15 - 0s - loss: 0.0568 - val_loss: 0.0869\n",
            "Epoch 4/100\n",
            "15/15 - 0s - loss: 0.0493 - val_loss: 0.0786\n",
            "Epoch 5/100\n",
            "15/15 - 0s - loss: 0.0458 - val_loss: 0.0745\n",
            "Epoch 6/100\n",
            "15/15 - 0s - loss: 0.0440 - val_loss: 0.0728\n",
            "Epoch 7/100\n",
            "15/15 - 0s - loss: 0.0439 - val_loss: 0.0718\n",
            "Epoch 8/100\n",
            "15/15 - 0s - loss: 0.0431 - val_loss: 0.0715\n",
            "Epoch 9/100\n",
            "15/15 - 0s - loss: 0.0431 - val_loss: 0.0714\n",
            "Epoch 10/100\n",
            "15/15 - 0s - loss: 0.0428 - val_loss: 0.0710\n",
            "Epoch 11/100\n",
            "15/15 - 0s - loss: 0.0426 - val_loss: 0.0709\n",
            "Epoch 12/100\n",
            "15/15 - 0s - loss: 0.0425 - val_loss: 0.0706\n",
            "Epoch 13/100\n",
            "15/15 - 0s - loss: 0.0423 - val_loss: 0.0704\n",
            "Epoch 14/100\n",
            "15/15 - 0s - loss: 0.0422 - val_loss: 0.0703\n",
            "Epoch 15/100\n",
            "15/15 - 0s - loss: 0.0422 - val_loss: 0.0702\n",
            "Epoch 16/100\n",
            "15/15 - 0s - loss: 0.0420 - val_loss: 0.0699\n",
            "Epoch 17/100\n",
            "15/15 - 0s - loss: 0.0420 - val_loss: 0.0698\n",
            "Epoch 18/100\n",
            "15/15 - 0s - loss: 0.0420 - val_loss: 0.0696\n",
            "Epoch 19/100\n",
            "15/15 - 0s - loss: 0.0420 - val_loss: 0.0696\n",
            "Epoch 20/100\n",
            "15/15 - 0s - loss: 0.0417 - val_loss: 0.0695\n",
            "Epoch 21/100\n",
            "15/15 - 0s - loss: 0.0415 - val_loss: 0.0693\n",
            "Epoch 22/100\n",
            "15/15 - 0s - loss: 0.0416 - val_loss: 0.0692\n",
            "Epoch 23/100\n",
            "15/15 - 0s - loss: 0.0417 - val_loss: 0.0690\n",
            "Epoch 24/100\n",
            "15/15 - 0s - loss: 0.0416 - val_loss: 0.0689\n",
            "Epoch 25/100\n",
            "15/15 - 0s - loss: 0.0411 - val_loss: 0.0688\n",
            "Epoch 26/100\n",
            "15/15 - 0s - loss: 0.0412 - val_loss: 0.0687\n",
            "Epoch 27/100\n",
            "15/15 - 0s - loss: 0.0410 - val_loss: 0.0685\n",
            "Epoch 28/100\n",
            "15/15 - 0s - loss: 0.0409 - val_loss: 0.0685\n",
            "Epoch 29/100\n",
            "15/15 - 0s - loss: 0.0410 - val_loss: 0.0684\n",
            "Epoch 30/100\n",
            "15/15 - 0s - loss: 0.0408 - val_loss: 0.0683\n",
            "Epoch 31/100\n",
            "15/15 - 0s - loss: 0.0408 - val_loss: 0.0682\n",
            "Epoch 32/100\n",
            "15/15 - 0s - loss: 0.0408 - val_loss: 0.0682\n",
            "Epoch 33/100\n",
            "15/15 - 0s - loss: 0.0407 - val_loss: 0.0680\n",
            "Epoch 34/100\n",
            "15/15 - 0s - loss: 0.0407 - val_loss: 0.0680\n",
            "Epoch 35/100\n",
            "15/15 - 0s - loss: 0.0406 - val_loss: 0.0679\n",
            "Epoch 36/100\n",
            "15/15 - 0s - loss: 0.0408 - val_loss: 0.0680\n",
            "Epoch 37/100\n",
            "15/15 - 0s - loss: 0.0405 - val_loss: 0.0678\n",
            "Epoch 38/100\n",
            "15/15 - 0s - loss: 0.0407 - val_loss: 0.0678\n",
            "Epoch 39/100\n",
            "15/15 - 0s - loss: 0.0406 - val_loss: 0.0678\n",
            "Epoch 40/100\n",
            "15/15 - 0s - loss: 0.0406 - val_loss: 0.0677\n",
            "Epoch 41/100\n",
            "15/15 - 0s - loss: 0.0403 - val_loss: 0.0677\n",
            "Epoch 42/100\n",
            "15/15 - 0s - loss: 0.0403 - val_loss: 0.0675\n",
            "Epoch 43/100\n",
            "15/15 - 0s - loss: 0.0403 - val_loss: 0.0675\n",
            "Epoch 44/100\n",
            "15/15 - 0s - loss: 0.0402 - val_loss: 0.0675\n",
            "Epoch 45/100\n",
            "15/15 - 0s - loss: 0.0403 - val_loss: 0.0673\n",
            "Epoch 46/100\n",
            "15/15 - 0s - loss: 0.0402 - val_loss: 0.0672\n",
            "Epoch 47/100\n",
            "15/15 - 0s - loss: 0.0402 - val_loss: 0.0672\n",
            "Epoch 48/100\n",
            "15/15 - 0s - loss: 0.0401 - val_loss: 0.0671\n",
            "Epoch 49/100\n",
            "15/15 - 0s - loss: 0.0401 - val_loss: 0.0671\n",
            "Epoch 50/100\n",
            "15/15 - 0s - loss: 0.0403 - val_loss: 0.0672\n",
            "Epoch 51/100\n",
            "15/15 - 0s - loss: 0.0400 - val_loss: 0.0670\n",
            "Epoch 52/100\n",
            "15/15 - 0s - loss: 0.0402 - val_loss: 0.0671\n",
            "Epoch 53/100\n",
            "15/15 - 0s - loss: 0.0400 - val_loss: 0.0671\n",
            "Epoch 54/100\n",
            "15/15 - 0s - loss: 0.0401 - val_loss: 0.0671\n",
            "Epoch 55/100\n",
            "15/15 - 0s - loss: 0.0401 - val_loss: 0.0669\n",
            "Epoch 56/100\n",
            "15/15 - 0s - loss: 0.0402 - val_loss: 0.0670\n",
            "Epoch 57/100\n",
            "15/15 - 0s - loss: 0.0399 - val_loss: 0.0670\n",
            "Epoch 58/100\n",
            "15/15 - 0s - loss: 0.0398 - val_loss: 0.0670\n",
            "Epoch 59/100\n",
            "15/15 - 0s - loss: 0.0400 - val_loss: 0.0670\n",
            "Epoch 60/100\n",
            "15/15 - 0s - loss: 0.0400 - val_loss: 0.0669\n",
            "Epoch 61/100\n",
            "15/15 - 0s - loss: 0.0400 - val_loss: 0.0669\n",
            "Epoch 62/100\n",
            "15/15 - 0s - loss: 0.0397 - val_loss: 0.0668\n",
            "Epoch 63/100\n",
            "15/15 - 0s - loss: 0.0397 - val_loss: 0.0668\n",
            "Epoch 64/100\n",
            "15/15 - 0s - loss: 0.0397 - val_loss: 0.0667\n",
            "Epoch 65/100\n",
            "15/15 - 0s - loss: 0.0399 - val_loss: 0.0666\n",
            "Epoch 66/100\n",
            "15/15 - 0s - loss: 0.0396 - val_loss: 0.0666\n",
            "Epoch 67/100\n",
            "15/15 - 0s - loss: 0.0398 - val_loss: 0.0666\n",
            "Epoch 68/100\n",
            "15/15 - 0s - loss: 0.0395 - val_loss: 0.0665\n",
            "Epoch 69/100\n",
            "15/15 - 0s - loss: 0.0399 - val_loss: 0.0666\n",
            "Epoch 70/100\n",
            "15/15 - 0s - loss: 0.0397 - val_loss: 0.0664\n",
            "Epoch 71/100\n",
            "15/15 - 0s - loss: 0.0395 - val_loss: 0.0665\n",
            "Epoch 72/100\n",
            "15/15 - 0s - loss: 0.0401 - val_loss: 0.0666\n",
            "Epoch 73/100\n",
            "15/15 - 0s - loss: 0.0396 - val_loss: 0.0664\n",
            "Epoch 74/100\n",
            "15/15 - 0s - loss: 0.0395 - val_loss: 0.0664\n",
            "Epoch 75/100\n",
            "15/15 - 0s - loss: 0.0400 - val_loss: 0.0665\n",
            "Epoch 76/100\n",
            "15/15 - 0s - loss: 0.0400 - val_loss: 0.0663\n",
            "Epoch 77/100\n",
            "15/15 - 0s - loss: 0.0394 - val_loss: 0.0663\n",
            "Epoch 78/100\n",
            "15/15 - 0s - loss: 0.0393 - val_loss: 0.0661\n",
            "Epoch 79/100\n",
            "15/15 - 0s - loss: 0.0395 - val_loss: 0.0662\n",
            "Epoch 80/100\n",
            "15/15 - 0s - loss: 0.0392 - val_loss: 0.0660\n",
            "Epoch 81/100\n",
            "15/15 - 0s - loss: 0.0394 - val_loss: 0.0661\n",
            "Epoch 82/100\n",
            "15/15 - 0s - loss: 0.0394 - val_loss: 0.0661\n",
            "Epoch 83/100\n",
            "15/15 - 0s - loss: 0.0392 - val_loss: 0.0660\n",
            "Epoch 84/100\n",
            "15/15 - 0s - loss: 0.0394 - val_loss: 0.0659\n",
            "Epoch 85/100\n",
            "15/15 - 0s - loss: 0.0397 - val_loss: 0.0662\n",
            "Epoch 86/100\n",
            "15/15 - 0s - loss: 0.0391 - val_loss: 0.0659\n",
            "Epoch 87/100\n",
            "15/15 - 0s - loss: 0.0391 - val_loss: 0.0659\n",
            "Epoch 88/100\n",
            "15/15 - 0s - loss: 0.0391 - val_loss: 0.0659\n",
            "Epoch 89/100\n",
            "15/15 - 0s - loss: 0.0392 - val_loss: 0.0659\n",
            "Epoch 90/100\n",
            "15/15 - 0s - loss: 0.0392 - val_loss: 0.0659\n",
            "Epoch 91/100\n",
            "15/15 - 0s - loss: 0.0391 - val_loss: 0.0658\n",
            "Epoch 92/100\n",
            "15/15 - 0s - loss: 0.0390 - val_loss: 0.0658\n",
            "Epoch 93/100\n",
            "15/15 - 0s - loss: 0.0390 - val_loss: 0.0659\n",
            "Epoch 94/100\n",
            "15/15 - 0s - loss: 0.0390 - val_loss: 0.0658\n",
            "Epoch 95/100\n",
            "15/15 - 0s - loss: 0.0390 - val_loss: 0.0658\n",
            "Epoch 96/100\n",
            "15/15 - 0s - loss: 0.0390 - val_loss: 0.0658\n",
            "Epoch 97/100\n",
            "15/15 - 0s - loss: 0.0389 - val_loss: 0.0658\n",
            "Epoch 98/100\n",
            "15/15 - 0s - loss: 0.0390 - val_loss: 0.0659\n",
            "Epoch 99/100\n",
            "15/15 - 0s - loss: 0.0390 - val_loss: 0.0657\n",
            "Epoch 100/100\n",
            "15/15 - 0s - loss: 0.0389 - val_loss: 0.0658\n",
            "dict_keys(['loss', 'val_loss'])\n"
          ],
          "name": "stdout"
        },
        {
          "output_type": "display_data",
          "data": {
            "image/png": "[encoded data removed]",
            "text/plain": [
              "<Figure size 432x288 with 1 Axes>"
            ]
          },
          "metadata": {
            "tags": [],
            "needs_background": "light"
          }
        }
      ]
    },
    {
      "cell_type": "code",
      "metadata": {
        "id": "cy7qrBH2c7Lr",
        "colab_type": "code",
        "colab": {}
      },
      "source": [
        "# Generate predictions\n",
        "trainpred = model.predict(X_train)\n",
        "valpred = model.predict(X_val)"
      ],
      "execution_count": 0,
      "outputs": []
    },
    {
      "cell_type": "code",
      "metadata": {
        "id": "jXjcyvxPc7L0",
        "colab_type": "code",
        "outputId": "2d896051-776a-4f57-ab06-369766f8b205",
        "colab": {
          "base_uri": "https://localhost:8080/",
          "height": 34
        }
      },
      "source": [
        "trainpred.shape"
      ],
      "execution_count": 34,
      "outputs": [
        {
          "output_type": "execute_result",
          "data": {
            "text/plain": [
              "(73, 1)"
            ]
          },
          "metadata": {
            "tags": []
          },
          "execution_count": 34
        }
      ]
    },
    {
      "cell_type": "code",
      "metadata": {
        "id": "2urFTx9axG3Z",
        "colab_type": "code",
        "colab": {}
      },
      "source": [
        "Y_train.shape"
      ],
      "execution_count": 0,
      "outputs": []
    },
    {
      "cell_type": "code",
      "metadata": {
        "id": "Ng8XpFCoc7L4",
        "colab_type": "code",
        "colab": {}
      },
      "source": [
        "valpred"
      ],
      "execution_count": 0,
      "outputs": []
    },
    {
      "cell_type": "code",
      "metadata": {
        "id": "lYe_Lp-3c7MB",
        "colab_type": "code",
        "colab": {}
      },
      "source": [
        "# Convert predictions back to normal values\n",
        "trainpred = scaler.inverse_transform(trainpred)\n",
        "Y_train = scaler.inverse_transform([Y_train])\n",
        "valpred = scaler.inverse_transform(valpred)\n",
        "Y_val = scaler.inverse_transform([Y_val])\n",
        "predictions = valpred"
      ],
      "execution_count": 0,
      "outputs": []
    },
    {
      "cell_type": "code",
      "metadata": {
        "id": "Ygz-IM_Wc7MG",
        "colab_type": "code",
        "colab": {}
      },
      "source": [
        "\n",
        "Y_val.shape\n",
        "X_train.shape\n",
        "X_val.shape\n",
        "Y_val"
      ],
      "execution_count": 0,
      "outputs": []
    },
    {
      "cell_type": "code",
      "metadata": {
        "id": "__a8sKKpMt3V",
        "colab_type": "code",
        "outputId": "9638872a-b885-4d6b-c8e1-2bf7ab40c816",
        "colab": {
          "base_uri": "https://localhost:8080/",
          "height": 119
        }
      },
      "source": [
        "Y_train"
      ],
      "execution_count": 36,
      "outputs": [
        {
          "output_type": "execute_result",
          "data": {
            "text/plain": [
              "array([[ 6.,  2.,  3.,  1.,  2.,  2.,  3.,  7.,  2.,  4.,  3.,  3.,  1.,\n",
              "         4.,  2.,  3.,  3.,  1.,  3.,  5.,  5.,  3.,  6.,  5.,  1.,  7.,\n",
              "         3.,  4.,  5.,  6.,  1.,  3.,  2.,  3.,  4.,  5.,  1.,  2.,  9.,\n",
              "        12.,  4.,  1., 15.,  8.,  2.,  3.,  2.,  4.,  4.,  2.,  6.,  4.,\n",
              "         2., 10.,  6., 10.,  5., 12.,  1., 10.,  1.,  2.,  3.,  5.,  6.,\n",
              "         5.,  7.,  8.,  1.,  8., 13.,  8.,  3.]])"
            ]
          },
          "metadata": {
            "tags": []
          },
          "execution_count": 36
        }
      ]
    },
    {
      "cell_type": "code",
      "metadata": {
        "id": "nX67suXRc7Mv",
        "colab_type": "code",
        "colab": {}
      },
      "source": [
        "X_train"
      ],
      "execution_count": 0,
      "outputs": []
    },
    {
      "cell_type": "code",
      "metadata": {
        "id": "KDM-VqeTc7M6",
        "colab_type": "code",
        "colab": {}
      },
      "source": [
        "X_val"
      ],
      "execution_count": 0,
      "outputs": []
    },
    {
      "cell_type": "code",
      "metadata": {
        "id": "OBaUB1-gc7M_",
        "colab_type": "code",
        "outputId": "5aeee176-a99d-47df-e647-90872a2bc1b1",
        "colab": {
          "base_uri": "https://localhost:8080/",
          "height": 51
        }
      },
      "source": [
        "import math\n",
        "from sklearn.metrics import mean_squared_error\n",
        "\n",
        "# calculate RMSE\n",
        "trainScore = math.sqrt(mean_squared_error(Y_train[0], trainpred[:,0]))\n",
        "print('Train Score: %.2f RMSE' % (trainScore))\n",
        "valScore = math.sqrt(mean_squared_error(Y_val[0], valpred[:,0]))\n",
        "print('Validation Score: %.2f RMSE' % (valScore))"
      ],
      "execution_count": 37,
      "outputs": [
        {
          "output_type": "stream",
          "text": [
            "Train Score: 2.95 RMSE\n",
            "Validation Score: 4.13 RMSE\n"
          ],
          "name": "stdout"
        }
      ]
    },
    {
      "cell_type": "code",
      "metadata": {
        "id": "p3A07z67c7NE",
        "colab_type": "code",
        "colab": {}
      },
      "source": [
        "# Train predictions\n",
        "trainpredPlot = np.empty_like(df)\n",
        "trainpredPlot[:, :] = np.nan\n",
        "trainpredPlot[previous:len(trainpred)+previous, :] = trainpred"
      ],
      "execution_count": 0,
      "outputs": []
    },
    {
      "cell_type": "code",
      "metadata": {
        "id": "8HAQRU-Ac7NK",
        "colab_type": "code",
        "colab": {}
      },
      "source": [
        "# Validation predictions\n",
        "valpredPlot = np.empty_like(df)\n",
        "valpredPlot[:, :] = np.nan\n",
        "valpredPlot[len(trainpred)+(previous*2)+1:len(df)-1, :] = valpred"
      ],
      "execution_count": 0,
      "outputs": []
    },
    {
      "cell_type": "code",
      "metadata": {
        "id": "2D7QmpwDc7NO",
        "colab_type": "code",
        "outputId": "484bfad1-13ef-48b1-8a3d-e0fe41e54773",
        "colab": {
          "base_uri": "https://localhost:8080/",
          "height": 295
        }
      },
      "source": [
        "# Plot all predictions\n",
        "inversetransform, =plt.plot(scaler.inverse_transform(df),label='Inverse')\n",
        "trainpred, =plt.plot(trainpredPlot, label='Trained')\n",
        "valpred, =plt.plot(valpredPlot, label='Valpred')\n",
        "plt.xlabel('Number of weeks')\n",
        "plt.ylabel('Cases')\n",
        "plt.title(\"Predicted vs. Actual Weekly cases\")\n",
        "plt.legend(loc = 'upper left')\n",
        "plt.show()"
      ],
      "execution_count": 40,
      "outputs": [
        {
          "output_type": "display_data",
          "data": {
            "image/png": "[encoded data removed]",
            "text/plain": [
              "<Figure size 432x288 with 1 Axes>"
            ]
          },
          "metadata": {
            "tags": [],
            "needs_background": "light"
          }
        }
      ]
    },
    {
      "cell_type": "code",
      "metadata": {
        "id": "2XLiSr65c7NZ",
        "colab_type": "code",
        "colab": {}
      },
      "source": [
        "Y_val=Y_val.reshape(-1)\n",
        "Y_val.shape\n",
        "Y_val=pd.Series(Y_val)"
      ],
      "execution_count": 0,
      "outputs": []
    },
    {
      "cell_type": "code",
      "metadata": {
        "id": "w21mnGrHc7Nl",
        "colab_type": "code",
        "colab": {}
      },
      "source": [
        "predictions=predictions.reshape(-1)\n",
        "predictions.shape\n",
        "predictions=pd.Series(predictions)"
      ],
      "execution_count": 0,
      "outputs": []
    },
    {
      "cell_type": "code",
      "metadata": {
        "id": "PaUPAFEIc7Np",
        "colab_type": "code",
        "colab": {}
      },
      "source": [
        "predictions"
      ],
      "execution_count": 0,
      "outputs": []
    },
    {
      "cell_type": "code",
      "metadata": {
        "id": "EvPj0IsVc7Nu",
        "colab_type": "code",
        "colab": {}
      },
      "source": [
        "import numpy as np\n",
        "\n",
        "def mda(actual: np.ndarray, predicted: np.ndarray):\n",
        "    \"\"\" Mean Directional Accuracy \"\"\"\n",
        "    return np.mean((np.sign(actual[1:] - actual[:-1]) == np.sign(predicted[1:] - predicted[:-1])).astype(int))"
      ],
      "execution_count": 0,
      "outputs": []
    },
    {
      "cell_type": "code",
      "metadata": {
        "id": "0k0oMOMec7N9",
        "colab_type": "code",
        "outputId": "7d91e37f-4920-4310-82ff-0118a43047eb",
        "colab": {
          "base_uri": "https://localhost:8080/",
          "height": 34
        }
      },
      "source": [
        "# https://machinelearningmastery.com/time-series-forecasting-performance-measures-with-python/\n",
        "\n",
        "from sklearn.metrics import mean_squared_error\n",
        "from math import sqrt\n",
        "mse = mean_squared_error(Y_val, predictions)\n",
        "rmse = sqrt(mse)\n",
        "print('RMSE: %f' % rmse)"
      ],
      "execution_count": 44,
      "outputs": [
        {
          "output_type": "stream",
          "text": [
            "RMSE: 4.128949\n"
          ],
          "name": "stdout"
        }
      ]
    },
    {
      "cell_type": "code",
      "metadata": {
        "id": "Ums0BgcCc7OH",
        "colab_type": "code",
        "colab": {}
      },
      "source": [
        "forecast_error = (predictions-Y_val)\n",
        "forecast_error"
      ],
      "execution_count": 0,
      "outputs": []
    },
    {
      "cell_type": "code",
      "metadata": {
        "id": "T1_TvRuLc7OO",
        "colab_type": "code",
        "outputId": "528d04c7-2bda-4df3-931a-93f6086c426f",
        "colab": {
          "base_uri": "https://localhost:8080/",
          "height": 34
        }
      },
      "source": [
        "mean_forecast_error = np.mean(forecast_error)\n",
        "mean_forecast_error"
      ],
      "execution_count": 46,
      "outputs": [
        {
          "output_type": "execute_result",
          "data": {
            "text/plain": [
              "-1.046022926058088"
            ]
          },
          "metadata": {
            "tags": []
          },
          "execution_count": 46
        }
      ]
    },
    {
      "cell_type": "code",
      "metadata": {
        "id": "dMJ-SGqIc7OT",
        "colab_type": "code",
        "colab": {}
      },
      "source": [
        "X_train"
      ],
      "execution_count": 0,
      "outputs": []
    },
    {
      "cell_type": "code",
      "metadata": {
        "id": "BVIl-qdoc7Od",
        "colab_type": "code",
        "colab": {}
      },
      "source": [
        "X_train.shape"
      ],
      "execution_count": 0,
      "outputs": []
    },
    {
      "cell_type": "markdown",
      "metadata": {
        "id": "nGn_kpX-c7Of",
        "colab_type": "text"
      },
      "source": [
        "## Validate Predictions on Test Data"
      ]
    },
    {
      "cell_type": "code",
      "metadata": {
        "id": "5v1QD92Cc7Og",
        "colab_type": "code",
        "colab": {}
      },
      "source": [
        "Xnew = np.array([tseries.iloc[100:105],tseries.iloc[101:106],tseries.iloc[102:107],tseries.iloc[103:108],tseries.iloc[104:109],tseries.iloc[105:110],tseries.iloc[106:111],tseries.iloc[107:112],tseries.iloc[108:113],tseries.iloc[109:114],tseries.iloc[110:115],tseries.iloc[111:116],tseries.iloc[112:117],tseries.iloc[113:118],tseries.iloc[114:119]])"
      ],
      "execution_count": 0,
      "outputs": []
    },
    {
      "cell_type": "code",
      "metadata": {
        "id": "Zz-OIJ88c7Ol",
        "colab_type": "code",
        "colab": {}
      },
      "source": [
        "Xnew.shape"
      ],
      "execution_count": 0,
      "outputs": []
    },
    {
      "cell_type": "code",
      "metadata": {
        "id": "exWlyshRc7Or",
        "colab_type": "code",
        "colab": {}
      },
      "source": [
        "Xnew = scaler.fit_transform(Xnew)\n",
        "Xnew\n",
        "Xnewformat = np.reshape(Xnew, (Xnew.shape[0], 1, Xnew.shape[1]))\n",
        "ynew=model.predict(Xnewformat)"
      ],
      "execution_count": 0,
      "outputs": []
    },
    {
      "cell_type": "code",
      "metadata": {
        "id": "5bKBJkZbc7Oz",
        "colab_type": "code",
        "outputId": "6b449904-7e82-4e10-dc9e-7cc04f2b6e44",
        "colab": {
          "base_uri": "https://localhost:8080/",
          "height": 34
        }
      },
      "source": [
        "Xnew.shape\n",
        "ynew.shape\n",
        "type(ynew)\n",
        "ynew.shape"
      ],
      "execution_count": 49,
      "outputs": [
        {
          "output_type": "execute_result",
          "data": {
            "text/plain": [
              "(15, 1)"
            ]
          },
          "metadata": {
            "tags": []
          },
          "execution_count": 49
        }
      ]
    },
    {
      "cell_type": "code",
      "metadata": {
        "id": "tQzr6-zrc7PB",
        "colab_type": "code",
        "colab": {}
      },
      "source": [
        "actual = tseries.iloc[100:115]\n",
        "actual"
      ],
      "execution_count": 0,
      "outputs": []
    },
    {
      "cell_type": "code",
      "metadata": {
        "id": "X8miqP27c7PE",
        "colab_type": "code",
        "outputId": "f88a1514-575f-4dc8-e837-e160344bd504",
        "colab": {
          "base_uri": "https://localhost:8080/",
          "height": 51
        }
      },
      "source": [
        "actual = np.array(actual)\n",
        "actual"
      ],
      "execution_count": 51,
      "outputs": [
        {
          "output_type": "execute_result",
          "data": {
            "text/plain": [
              "array([ 4.,  2.,  6.,  4.,  2., 10.,  6., 10.,  5., 12.,  1., 10.,  1.,\n",
              "        2.,  3.])"
            ]
          },
          "metadata": {
            "tags": []
          },
          "execution_count": 51
        }
      ]
    },
    {
      "cell_type": "code",
      "metadata": {
        "id": "nHtWNaHac7PJ",
        "colab_type": "code",
        "outputId": "36903024-d31e-4511-a0da-8970d22da886",
        "colab": {
          "base_uri": "https://localhost:8080/",
          "height": 34
        }
      },
      "source": [
        "actual=actual.reshape(15,-1)\n",
        "actual.shape"
      ],
      "execution_count": 52,
      "outputs": [
        {
          "output_type": "execute_result",
          "data": {
            "text/plain": [
              "(15, 1)"
            ]
          },
          "metadata": {
            "tags": []
          },
          "execution_count": 52
        }
      ]
    },
    {
      "cell_type": "code",
      "metadata": {
        "id": "O6oBQl4vc7PN",
        "colab_type": "code",
        "colab": {}
      },
      "source": [
        "actual"
      ],
      "execution_count": 0,
      "outputs": []
    },
    {
      "cell_type": "code",
      "metadata": {
        "id": "kxGMJAvCc7PQ",
        "colab_type": "code",
        "colab": {}
      },
      "source": [
        "ynew=ynew.reshape(-1)\n",
        "actual=actual.reshape(-1)\n",
        "actualpd=pd.Series(actual)"
      ],
      "execution_count": 0,
      "outputs": []
    },
    {
      "cell_type": "code",
      "metadata": {
        "id": "qOmW8VzW3Jub",
        "colab_type": "code",
        "outputId": "9a815675-7c4b-48f7-def4-5b445c0b6bf7",
        "colab": {
          "base_uri": "https://localhost:8080/",
          "height": 35
        }
      },
      "source": [
        "ynew.shape"
      ],
      "execution_count": 0,
      "outputs": [
        {
          "output_type": "execute_result",
          "data": {
            "text/plain": [
              "(15,)"
            ]
          },
          "metadata": {
            "tags": []
          },
          "execution_count": 118
        }
      ]
    },
    {
      "cell_type": "code",
      "metadata": {
        "id": "cUQH4HPlc7Pb",
        "colab_type": "code",
        "outputId": "54ae2e0e-c04b-4f84-c4db-d55dcefbb948",
        "colab": {
          "base_uri": "https://localhost:8080/",
          "height": 88
        }
      },
      "source": [
        "ynew"
      ],
      "execution_count": 0,
      "outputs": [
        {
          "output_type": "execute_result",
          "data": {
            "text/plain": [
              "array([0.30761704, 0.43710563, 0.31837222, 0.4083848 , 0.5502678 ,\n",
              "       0.5192634 , 0.4973721 , 0.5011029 , 0.48459512, 0.29174653,\n",
              "       0.4173595 , 0.21416196, 0.30019888, 0.34330514, 0.42169997],\n",
              "      dtype=float32)"
            ]
          },
          "metadata": {
            "tags": []
          },
          "execution_count": 49
        }
      ]
    },
    {
      "cell_type": "code",
      "metadata": {
        "id": "p0XjE9B0c7Pf",
        "colab_type": "code",
        "colab": {}
      },
      "source": [
        "maxt=np.max(tseries)\n",
        "mint=np.min(tseries)\n"
      ],
      "execution_count": 0,
      "outputs": []
    },
    {
      "cell_type": "code",
      "metadata": {
        "id": "ofuwf2UVc7Pq",
        "colab_type": "code",
        "colab": {}
      },
      "source": [
        "ynew = ynew * np.abs(maxt-mint) + np.min(tseries)\n",
        "ynewpd=pd.Series(ynew)"
      ],
      "execution_count": 0,
      "outputs": []
    },
    {
      "cell_type": "code",
      "metadata": {
        "id": "17q3kj_Mc7Pv",
        "colab_type": "code",
        "colab": {}
      },
      "source": [
        "actualpd"
      ],
      "execution_count": 0,
      "outputs": []
    },
    {
      "cell_type": "code",
      "metadata": {
        "id": "CQZT-61oc7P1",
        "colab_type": "code",
        "colab": {}
      },
      "source": [
        "ynewpd"
      ],
      "execution_count": 0,
      "outputs": []
    },
    {
      "cell_type": "code",
      "metadata": {
        "id": "228aaAkJc7Qf",
        "colab_type": "code",
        "outputId": "e1d2be98-a0b5-4e85-b395-4dc7b6b0ccfa",
        "colab": {
          "base_uri": "https://localhost:8080/",
          "height": 34
        }
      },
      "source": [
        "mse = mean_squared_error(actualpd, ynewpd)\n",
        "rmse = sqrt(mse)\n",
        "print('RMSE: %f' % rmse)"
      ],
      "execution_count": 62,
      "outputs": [
        {
          "output_type": "stream",
          "text": [
            "RMSE: 3.893157\n"
          ],
          "name": "stdout"
        }
      ]
    },
    {
      "cell_type": "code",
      "metadata": {
        "id": "1NM1WEOEc7Ql",
        "colab_type": "code",
        "colab": {}
      },
      "source": [
        "forecast_error = (ynewpd-actualpd)\n",
        "forecast_error"
      ],
      "execution_count": 0,
      "outputs": []
    },
    {
      "cell_type": "code",
      "metadata": {
        "id": "g4V2YfcXc7Qr",
        "colab_type": "code",
        "colab": {}
      },
      "source": [
        "mean_forecast_error = np.mean(forecast_error)\n",
        "mean_forecast_error"
      ],
      "execution_count": 0,
      "outputs": []
    },
    {
      "cell_type": "code",
      "metadata": {
        "id": "2TfmHqiVc7RG",
        "colab_type": "code",
        "outputId": "b3b8714f-5a88-4a6a-8340-f287689eac18",
        "colab": {
          "base_uri": "https://localhost:8080/",
          "height": 295
        }
      },
      "source": [
        "predictons, =plt.plot(ynewpd, label='Predictions')\n",
        "actual, =plt.plot(actualpd, label='Actual')\n",
        "plt.xlabel('Number of weeks')\n",
        "plt.ylabel('Weekly cases')\n",
        "plt.title(\"Predicted vs. Actual Weekly Cases\")\n",
        "plt.legend(loc = 'upper left')\n",
        "plt.show()"
      ],
      "execution_count": 0,
      "outputs": [
        {
          "output_type": "display_data",
          "data": {
            "image/png": "[encoded data removed]",
            "text/plain": [
              "<Figure size 432x288 with 1 Axes>"
            ]
          },
          "metadata": {
            "tags": [],
            "needs_background": "light"
          }
        }
      ]
    },
    {
      "cell_type": "code",
      "metadata": {
        "id": "-RueHmWwc7Rb",
        "colab_type": "code",
        "outputId": "3dcfc280-0e29-43aa-8c92-8a187eba7d65",
        "colab": {
          "base_uri": "https://localhost:8080/",
          "height": 34
        }
      },
      "source": [
        "np.mean(actualpd)"
      ],
      "execution_count": 65,
      "outputs": [
        {
          "output_type": "execute_result",
          "data": {
            "text/plain": [
              "5.2"
            ]
          },
          "metadata": {
            "tags": []
          },
          "execution_count": 65
        }
      ]
    },
    {
      "cell_type": "markdown",
      "metadata": {
        "id": "v-uLe3BSGl3_",
        "colab_type": "text"
      },
      "source": [
        "Referencias :\n",
        "https://towardsdatascience.com/predicting-weekly-hotel-cancellations-with-an-lstm-network-c82789028ea1"
      ]
    }
  ]
}